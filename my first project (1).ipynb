{
 "cells": [
  {
   "cell_type": "markdown",
   "id": "f15f6c4a",
   "metadata": {},
   "source": [
    "## Import the Libraries"
   ]
  },
  {
   "cell_type": "code",
   "execution_count": 188,
   "id": "4b4545b8",
   "metadata": {},
   "outputs": [],
   "source": [
    "import numpy as np\n",
    "import pandas as pd\n",
    "import matplotlib.pyplot as plt\n",
    "import seaborn as sns\n",
    "import os\n",
    "from sklearn import metrics\n",
    "from sklearn.preprocessing import MinMaxScaler, StandardScaler\n",
    "from sklearn.model_selection import train_test_split\n",
    "from sklearn.linear_model import LinearRegression \n",
    "from sklearn.linear_model import LogisticRegression"
   ]
  },
  {
   "cell_type": "markdown",
   "id": "89bd6026",
   "metadata": {},
   "source": [
    "## Load the Dataset"
   ]
  },
  {
   "cell_type": "code",
   "execution_count": 189,
   "id": "bff535db",
   "metadata": {},
   "outputs": [],
   "source": [
    "df=pd.read_csv(r\"C:\\Users\\LENOVO\\Downloads\\diabetes.csv\")"
   ]
  },
  {
   "cell_type": "code",
   "execution_count": 190,
   "id": "32c5ee10",
   "metadata": {},
   "outputs": [
    {
     "data": {
      "text/html": [
       "<div>\n",
       "<style scoped>\n",
       "    .dataframe tbody tr th:only-of-type {\n",
       "        vertical-align: middle;\n",
       "    }\n",
       "\n",
       "    .dataframe tbody tr th {\n",
       "        vertical-align: top;\n",
       "    }\n",
       "\n",
       "    .dataframe thead th {\n",
       "        text-align: right;\n",
       "    }\n",
       "</style>\n",
       "<table border=\"1\" class=\"dataframe\">\n",
       "  <thead>\n",
       "    <tr style=\"text-align: right;\">\n",
       "      <th></th>\n",
       "      <th>Pregnancies</th>\n",
       "      <th>Glucose</th>\n",
       "      <th>BloodPressure</th>\n",
       "      <th>SkinThickness</th>\n",
       "      <th>Insulin</th>\n",
       "      <th>BMI</th>\n",
       "      <th>DiabetesPedigreeFunction</th>\n",
       "      <th>Age</th>\n",
       "      <th>Outcome</th>\n",
       "    </tr>\n",
       "  </thead>\n",
       "  <tbody>\n",
       "    <tr>\n",
       "      <th>0</th>\n",
       "      <td>6</td>\n",
       "      <td>148</td>\n",
       "      <td>72</td>\n",
       "      <td>35</td>\n",
       "      <td>0</td>\n",
       "      <td>33.6</td>\n",
       "      <td>0.627</td>\n",
       "      <td>50</td>\n",
       "      <td>1</td>\n",
       "    </tr>\n",
       "    <tr>\n",
       "      <th>1</th>\n",
       "      <td>1</td>\n",
       "      <td>85</td>\n",
       "      <td>66</td>\n",
       "      <td>29</td>\n",
       "      <td>0</td>\n",
       "      <td>26.6</td>\n",
       "      <td>0.351</td>\n",
       "      <td>31</td>\n",
       "      <td>0</td>\n",
       "    </tr>\n",
       "    <tr>\n",
       "      <th>2</th>\n",
       "      <td>8</td>\n",
       "      <td>183</td>\n",
       "      <td>64</td>\n",
       "      <td>0</td>\n",
       "      <td>0</td>\n",
       "      <td>23.3</td>\n",
       "      <td>0.672</td>\n",
       "      <td>32</td>\n",
       "      <td>1</td>\n",
       "    </tr>\n",
       "    <tr>\n",
       "      <th>3</th>\n",
       "      <td>1</td>\n",
       "      <td>89</td>\n",
       "      <td>66</td>\n",
       "      <td>23</td>\n",
       "      <td>94</td>\n",
       "      <td>28.1</td>\n",
       "      <td>0.167</td>\n",
       "      <td>21</td>\n",
       "      <td>0</td>\n",
       "    </tr>\n",
       "    <tr>\n",
       "      <th>4</th>\n",
       "      <td>0</td>\n",
       "      <td>137</td>\n",
       "      <td>40</td>\n",
       "      <td>35</td>\n",
       "      <td>168</td>\n",
       "      <td>43.1</td>\n",
       "      <td>2.288</td>\n",
       "      <td>33</td>\n",
       "      <td>1</td>\n",
       "    </tr>\n",
       "  </tbody>\n",
       "</table>\n",
       "</div>"
      ],
      "text/plain": [
       "   Pregnancies  Glucose  BloodPressure  SkinThickness  Insulin   BMI  \\\n",
       "0            6      148             72             35        0  33.6   \n",
       "1            1       85             66             29        0  26.6   \n",
       "2            8      183             64              0        0  23.3   \n",
       "3            1       89             66             23       94  28.1   \n",
       "4            0      137             40             35      168  43.1   \n",
       "\n",
       "   DiabetesPedigreeFunction  Age  Outcome  \n",
       "0                     0.627   50        1  \n",
       "1                     0.351   31        0  \n",
       "2                     0.672   32        1  \n",
       "3                     0.167   21        0  \n",
       "4                     2.288   33        1  "
      ]
     },
     "execution_count": 190,
     "metadata": {},
     "output_type": "execute_result"
    }
   ],
   "source": [
    "df.head()"
   ]
  },
  {
   "cell_type": "code",
   "execution_count": 191,
   "id": "6ef00864",
   "metadata": {},
   "outputs": [
    {
     "data": {
      "text/plain": [
       "(768, 9)"
      ]
     },
     "execution_count": 191,
     "metadata": {},
     "output_type": "execute_result"
    }
   ],
   "source": [
    "df.shape"
   ]
  },
  {
   "cell_type": "code",
   "execution_count": 192,
   "id": "be6a4ee7",
   "metadata": {},
   "outputs": [
    {
     "name": "stdout",
     "output_type": "stream",
     "text": [
      "<class 'pandas.core.frame.DataFrame'>\n",
      "RangeIndex: 768 entries, 0 to 767\n",
      "Data columns (total 9 columns):\n",
      " #   Column                    Non-Null Count  Dtype  \n",
      "---  ------                    --------------  -----  \n",
      " 0   Pregnancies               768 non-null    int64  \n",
      " 1   Glucose                   768 non-null    int64  \n",
      " 2   BloodPressure             768 non-null    int64  \n",
      " 3   SkinThickness             768 non-null    int64  \n",
      " 4   Insulin                   768 non-null    int64  \n",
      " 5   BMI                       768 non-null    float64\n",
      " 6   DiabetesPedigreeFunction  768 non-null    float64\n",
      " 7   Age                       768 non-null    int64  \n",
      " 8   Outcome                   768 non-null    int64  \n",
      "dtypes: float64(2), int64(7)\n",
      "memory usage: 54.1 KB\n"
     ]
    }
   ],
   "source": [
    "df.info()"
   ]
  },
  {
   "cell_type": "code",
   "execution_count": 193,
   "id": "fd3e83db",
   "metadata": {},
   "outputs": [
    {
     "data": {
      "text/plain": [
       "1     135\n",
       "0     111\n",
       "2     103\n",
       "3      75\n",
       "4      68\n",
       "5      57\n",
       "6      50\n",
       "7      45\n",
       "8      38\n",
       "9      28\n",
       "10     24\n",
       "11     11\n",
       "13     10\n",
       "12      9\n",
       "14      2\n",
       "15      1\n",
       "17      1\n",
       "Name: Pregnancies, dtype: int64"
      ]
     },
     "execution_count": 193,
     "metadata": {},
     "output_type": "execute_result"
    }
   ],
   "source": [
    "df[\"Pregnancies\"].value_counts()"
   ]
  },
  {
   "cell_type": "code",
   "execution_count": 194,
   "id": "bd137949",
   "metadata": {},
   "outputs": [
    {
     "name": "stdout",
     "output_type": "stream",
     "text": [
      "Feature Pregnancies has a unique count of 17\n",
      "Feature Glucose has a unique count of 136\n",
      "Feature BloodPressure has a unique count of 47\n",
      "Feature SkinThickness has a unique count of 51\n",
      "Feature Insulin has a unique count of 186\n",
      "Feature BMI has a unique count of 248\n",
      "Feature DiabetesPedigreeFunction has a unique count of 517\n",
      "Feature Age has a unique count of 52\n",
      "Feature Outcome has a unique count of 2\n"
     ]
    }
   ],
   "source": [
    "# data dictionary\n",
    "for i in df.columns:\n",
    "    print(f\"Feature {i} has a unique count of {df[i].nunique()}\")   "
   ]
  },
  {
   "cell_type": "code",
   "execution_count": 195,
   "id": "b02cb8c0",
   "metadata": {},
   "outputs": [],
   "source": [
    "cat_data=df[df.dtypes[df.dtypes==\"object\"].index]\n",
    "num_data=df[df.dtypes[df.dtypes!=\"object\"].index]"
   ]
  },
  {
   "cell_type": "code",
   "execution_count": 196,
   "id": "0a275876",
   "metadata": {},
   "outputs": [
    {
     "data": {
      "text/plain": [
       "Index([], dtype='object')"
      ]
     },
     "execution_count": 196,
     "metadata": {},
     "output_type": "execute_result"
    }
   ],
   "source": [
    "cat_data.columns"
   ]
  },
  {
   "cell_type": "code",
   "execution_count": 197,
   "id": "890f275a",
   "metadata": {},
   "outputs": [],
   "source": [
    "eda_num=['Pregnancies', 'Glucose', 'BloodPressure', 'SkinThickness', 'Insulin',\n",
    "       'BMI', 'DiabetesPedigreeFunction', 'Age',]"
   ]
  },
  {
   "cell_type": "code",
   "execution_count": 198,
   "id": "4e171808",
   "metadata": {},
   "outputs": [],
   "source": [
    "eda_cat=[\"Pregnancies\"]"
   ]
  },
  {
   "cell_type": "code",
   "execution_count": 199,
   "id": "0195469f",
   "metadata": {},
   "outputs": [
    {
     "data": {
      "text/plain": [
       "1"
      ]
     },
     "execution_count": 199,
     "metadata": {},
     "output_type": "execute_result"
    }
   ],
   "source": [
    "len(eda_cat)"
   ]
  },
  {
   "cell_type": "code",
   "execution_count": 200,
   "id": "8e209fe6",
   "metadata": {},
   "outputs": [
    {
     "data": {
      "text/plain": [
       "8"
      ]
     },
     "execution_count": 200,
     "metadata": {},
     "output_type": "execute_result"
    }
   ],
   "source": [
    "len(eda_num)"
   ]
  },
  {
   "cell_type": "code",
   "execution_count": 201,
   "id": "e57adc5a",
   "metadata": {},
   "outputs": [
    {
     "data": {
      "text/html": [
       "<div>\n",
       "<style scoped>\n",
       "    .dataframe tbody tr th:only-of-type {\n",
       "        vertical-align: middle;\n",
       "    }\n",
       "\n",
       "    .dataframe tbody tr th {\n",
       "        vertical-align: top;\n",
       "    }\n",
       "\n",
       "    .dataframe thead th {\n",
       "        text-align: right;\n",
       "    }\n",
       "</style>\n",
       "<table border=\"1\" class=\"dataframe\">\n",
       "  <thead>\n",
       "    <tr style=\"text-align: right;\">\n",
       "      <th></th>\n",
       "      <th>count</th>\n",
       "      <th>mean</th>\n",
       "      <th>std</th>\n",
       "      <th>min</th>\n",
       "      <th>1%</th>\n",
       "      <th>2%</th>\n",
       "      <th>3%</th>\n",
       "      <th>4%</th>\n",
       "      <th>5%</th>\n",
       "      <th>10%</th>\n",
       "      <th>25%</th>\n",
       "      <th>50%</th>\n",
       "      <th>75%</th>\n",
       "      <th>90%</th>\n",
       "      <th>95%</th>\n",
       "      <th>96%</th>\n",
       "      <th>97%</th>\n",
       "      <th>98%</th>\n",
       "      <th>99%</th>\n",
       "      <th>max</th>\n",
       "    </tr>\n",
       "  </thead>\n",
       "  <tbody>\n",
       "    <tr>\n",
       "      <th>Pregnancies</th>\n",
       "      <td>768.0</td>\n",
       "      <td>3.845052</td>\n",
       "      <td>3.369578</td>\n",
       "      <td>0.000</td>\n",
       "      <td>0.00000</td>\n",
       "      <td>0.00000</td>\n",
       "      <td>0.00000</td>\n",
       "      <td>0.000</td>\n",
       "      <td>0.00000</td>\n",
       "      <td>0.000</td>\n",
       "      <td>1.00000</td>\n",
       "      <td>3.0000</td>\n",
       "      <td>6.00000</td>\n",
       "      <td>9.0000</td>\n",
       "      <td>10.00000</td>\n",
       "      <td>11.00000</td>\n",
       "      <td>11.00000</td>\n",
       "      <td>12.00000</td>\n",
       "      <td>13.00000</td>\n",
       "      <td>17.00</td>\n",
       "    </tr>\n",
       "    <tr>\n",
       "      <th>Glucose</th>\n",
       "      <td>768.0</td>\n",
       "      <td>120.894531</td>\n",
       "      <td>31.972618</td>\n",
       "      <td>0.000</td>\n",
       "      <td>57.00000</td>\n",
       "      <td>69.02000</td>\n",
       "      <td>73.01000</td>\n",
       "      <td>76.000</td>\n",
       "      <td>79.00000</td>\n",
       "      <td>85.000</td>\n",
       "      <td>99.00000</td>\n",
       "      <td>117.0000</td>\n",
       "      <td>140.25000</td>\n",
       "      <td>167.0000</td>\n",
       "      <td>181.00000</td>\n",
       "      <td>184.00000</td>\n",
       "      <td>187.99000</td>\n",
       "      <td>192.32000</td>\n",
       "      <td>196.00000</td>\n",
       "      <td>199.00</td>\n",
       "    </tr>\n",
       "    <tr>\n",
       "      <th>BloodPressure</th>\n",
       "      <td>768.0</td>\n",
       "      <td>69.105469</td>\n",
       "      <td>19.355807</td>\n",
       "      <td>0.000</td>\n",
       "      <td>0.00000</td>\n",
       "      <td>0.00000</td>\n",
       "      <td>0.00000</td>\n",
       "      <td>0.000</td>\n",
       "      <td>38.70000</td>\n",
       "      <td>54.000</td>\n",
       "      <td>62.00000</td>\n",
       "      <td>72.0000</td>\n",
       "      <td>80.00000</td>\n",
       "      <td>88.0000</td>\n",
       "      <td>90.00000</td>\n",
       "      <td>92.00000</td>\n",
       "      <td>94.99000</td>\n",
       "      <td>99.32000</td>\n",
       "      <td>106.00000</td>\n",
       "      <td>122.00</td>\n",
       "    </tr>\n",
       "    <tr>\n",
       "      <th>SkinThickness</th>\n",
       "      <td>768.0</td>\n",
       "      <td>20.536458</td>\n",
       "      <td>15.952218</td>\n",
       "      <td>0.000</td>\n",
       "      <td>0.00000</td>\n",
       "      <td>0.00000</td>\n",
       "      <td>0.00000</td>\n",
       "      <td>0.000</td>\n",
       "      <td>0.00000</td>\n",
       "      <td>0.000</td>\n",
       "      <td>0.00000</td>\n",
       "      <td>23.0000</td>\n",
       "      <td>32.00000</td>\n",
       "      <td>40.0000</td>\n",
       "      <td>44.00000</td>\n",
       "      <td>45.32000</td>\n",
       "      <td>46.00000</td>\n",
       "      <td>48.00000</td>\n",
       "      <td>51.33000</td>\n",
       "      <td>99.00</td>\n",
       "    </tr>\n",
       "    <tr>\n",
       "      <th>Insulin</th>\n",
       "      <td>768.0</td>\n",
       "      <td>79.799479</td>\n",
       "      <td>115.244002</td>\n",
       "      <td>0.000</td>\n",
       "      <td>0.00000</td>\n",
       "      <td>0.00000</td>\n",
       "      <td>0.00000</td>\n",
       "      <td>0.000</td>\n",
       "      <td>0.00000</td>\n",
       "      <td>0.000</td>\n",
       "      <td>0.00000</td>\n",
       "      <td>30.5000</td>\n",
       "      <td>127.25000</td>\n",
       "      <td>210.0000</td>\n",
       "      <td>293.00000</td>\n",
       "      <td>325.00000</td>\n",
       "      <td>369.90000</td>\n",
       "      <td>470.94000</td>\n",
       "      <td>519.90000</td>\n",
       "      <td>846.00</td>\n",
       "    </tr>\n",
       "    <tr>\n",
       "      <th>BMI</th>\n",
       "      <td>768.0</td>\n",
       "      <td>31.992578</td>\n",
       "      <td>7.884160</td>\n",
       "      <td>0.000</td>\n",
       "      <td>0.00000</td>\n",
       "      <td>19.16800</td>\n",
       "      <td>19.90100</td>\n",
       "      <td>21.000</td>\n",
       "      <td>21.80000</td>\n",
       "      <td>23.600</td>\n",
       "      <td>27.30000</td>\n",
       "      <td>32.0000</td>\n",
       "      <td>36.60000</td>\n",
       "      <td>41.5000</td>\n",
       "      <td>44.39500</td>\n",
       "      <td>45.33200</td>\n",
       "      <td>46.10000</td>\n",
       "      <td>47.52600</td>\n",
       "      <td>50.75900</td>\n",
       "      <td>67.10</td>\n",
       "    </tr>\n",
       "    <tr>\n",
       "      <th>DiabetesPedigreeFunction</th>\n",
       "      <td>768.0</td>\n",
       "      <td>0.471876</td>\n",
       "      <td>0.331329</td>\n",
       "      <td>0.078</td>\n",
       "      <td>0.09468</td>\n",
       "      <td>0.11902</td>\n",
       "      <td>0.12701</td>\n",
       "      <td>0.134</td>\n",
       "      <td>0.14035</td>\n",
       "      <td>0.165</td>\n",
       "      <td>0.24375</td>\n",
       "      <td>0.3725</td>\n",
       "      <td>0.62625</td>\n",
       "      <td>0.8786</td>\n",
       "      <td>1.13285</td>\n",
       "      <td>1.18424</td>\n",
       "      <td>1.25793</td>\n",
       "      <td>1.39066</td>\n",
       "      <td>1.69833</td>\n",
       "      <td>2.42</td>\n",
       "    </tr>\n",
       "    <tr>\n",
       "      <th>Age</th>\n",
       "      <td>768.0</td>\n",
       "      <td>33.240885</td>\n",
       "      <td>11.760232</td>\n",
       "      <td>21.000</td>\n",
       "      <td>21.00000</td>\n",
       "      <td>21.00000</td>\n",
       "      <td>21.00000</td>\n",
       "      <td>21.000</td>\n",
       "      <td>21.00000</td>\n",
       "      <td>22.000</td>\n",
       "      <td>24.00000</td>\n",
       "      <td>29.0000</td>\n",
       "      <td>41.00000</td>\n",
       "      <td>51.0000</td>\n",
       "      <td>58.00000</td>\n",
       "      <td>60.00000</td>\n",
       "      <td>62.00000</td>\n",
       "      <td>64.66000</td>\n",
       "      <td>67.00000</td>\n",
       "      <td>81.00</td>\n",
       "    </tr>\n",
       "    <tr>\n",
       "      <th>Outcome</th>\n",
       "      <td>768.0</td>\n",
       "      <td>0.348958</td>\n",
       "      <td>0.476951</td>\n",
       "      <td>0.000</td>\n",
       "      <td>0.00000</td>\n",
       "      <td>0.00000</td>\n",
       "      <td>0.00000</td>\n",
       "      <td>0.000</td>\n",
       "      <td>0.00000</td>\n",
       "      <td>0.000</td>\n",
       "      <td>0.00000</td>\n",
       "      <td>0.0000</td>\n",
       "      <td>1.00000</td>\n",
       "      <td>1.0000</td>\n",
       "      <td>1.00000</td>\n",
       "      <td>1.00000</td>\n",
       "      <td>1.00000</td>\n",
       "      <td>1.00000</td>\n",
       "      <td>1.00000</td>\n",
       "      <td>1.00</td>\n",
       "    </tr>\n",
       "  </tbody>\n",
       "</table>\n",
       "</div>"
      ],
      "text/plain": [
       "                          count        mean         std     min        1%  \\\n",
       "Pregnancies               768.0    3.845052    3.369578   0.000   0.00000   \n",
       "Glucose                   768.0  120.894531   31.972618   0.000  57.00000   \n",
       "BloodPressure             768.0   69.105469   19.355807   0.000   0.00000   \n",
       "SkinThickness             768.0   20.536458   15.952218   0.000   0.00000   \n",
       "Insulin                   768.0   79.799479  115.244002   0.000   0.00000   \n",
       "BMI                       768.0   31.992578    7.884160   0.000   0.00000   \n",
       "DiabetesPedigreeFunction  768.0    0.471876    0.331329   0.078   0.09468   \n",
       "Age                       768.0   33.240885   11.760232  21.000  21.00000   \n",
       "Outcome                   768.0    0.348958    0.476951   0.000   0.00000   \n",
       "\n",
       "                                2%        3%      4%        5%     10%  \\\n",
       "Pregnancies                0.00000   0.00000   0.000   0.00000   0.000   \n",
       "Glucose                   69.02000  73.01000  76.000  79.00000  85.000   \n",
       "BloodPressure              0.00000   0.00000   0.000  38.70000  54.000   \n",
       "SkinThickness              0.00000   0.00000   0.000   0.00000   0.000   \n",
       "Insulin                    0.00000   0.00000   0.000   0.00000   0.000   \n",
       "BMI                       19.16800  19.90100  21.000  21.80000  23.600   \n",
       "DiabetesPedigreeFunction   0.11902   0.12701   0.134   0.14035   0.165   \n",
       "Age                       21.00000  21.00000  21.000  21.00000  22.000   \n",
       "Outcome                    0.00000   0.00000   0.000   0.00000   0.000   \n",
       "\n",
       "                               25%       50%        75%       90%        95%  \\\n",
       "Pregnancies                1.00000    3.0000    6.00000    9.0000   10.00000   \n",
       "Glucose                   99.00000  117.0000  140.25000  167.0000  181.00000   \n",
       "BloodPressure             62.00000   72.0000   80.00000   88.0000   90.00000   \n",
       "SkinThickness              0.00000   23.0000   32.00000   40.0000   44.00000   \n",
       "Insulin                    0.00000   30.5000  127.25000  210.0000  293.00000   \n",
       "BMI                       27.30000   32.0000   36.60000   41.5000   44.39500   \n",
       "DiabetesPedigreeFunction   0.24375    0.3725    0.62625    0.8786    1.13285   \n",
       "Age                       24.00000   29.0000   41.00000   51.0000   58.00000   \n",
       "Outcome                    0.00000    0.0000    1.00000    1.0000    1.00000   \n",
       "\n",
       "                                96%        97%        98%        99%     max  \n",
       "Pregnancies                11.00000   11.00000   12.00000   13.00000   17.00  \n",
       "Glucose                   184.00000  187.99000  192.32000  196.00000  199.00  \n",
       "BloodPressure              92.00000   94.99000   99.32000  106.00000  122.00  \n",
       "SkinThickness              45.32000   46.00000   48.00000   51.33000   99.00  \n",
       "Insulin                   325.00000  369.90000  470.94000  519.90000  846.00  \n",
       "BMI                        45.33200   46.10000   47.52600   50.75900   67.10  \n",
       "DiabetesPedigreeFunction    1.18424    1.25793    1.39066    1.69833    2.42  \n",
       "Age                        60.00000   62.00000   64.66000   67.00000   81.00  \n",
       "Outcome                     1.00000    1.00000    1.00000    1.00000    1.00  "
      ]
     },
     "execution_count": 201,
     "metadata": {},
     "output_type": "execute_result"
    }
   ],
   "source": [
    "df.describe(percentiles=[0.01,.02,.03,.04,.05,.1,.25,.50,.75,.90,.95,.96,.97,.98,.99]).T"
   ]
  },
  {
   "cell_type": "code",
   "execution_count": 202,
   "id": "2e41575d",
   "metadata": {},
   "outputs": [
    {
     "data": {
      "text/plain": [
       "Series([], dtype: float64)"
      ]
     },
     "execution_count": 202,
     "metadata": {},
     "output_type": "execute_result"
    }
   ],
   "source": [
    "cat_data.isnull().sum()"
   ]
  },
  {
   "cell_type": "code",
   "execution_count": 203,
   "id": "798322ef",
   "metadata": {},
   "outputs": [
    {
     "data": {
      "text/plain": [
       "Pregnancies                 0\n",
       "Glucose                     0\n",
       "BloodPressure               0\n",
       "SkinThickness               0\n",
       "Insulin                     0\n",
       "BMI                         0\n",
       "DiabetesPedigreeFunction    0\n",
       "Age                         0\n",
       "Outcome                     0\n",
       "dtype: int64"
      ]
     },
     "execution_count": 203,
     "metadata": {},
     "output_type": "execute_result"
    }
   ],
   "source": [
    "num_data.isnull().sum()"
   ]
  },
  {
   "cell_type": "markdown",
   "id": "b16fe216",
   "metadata": {},
   "source": [
    "## Exploratory Data Analysis"
   ]
  },
  {
   "cell_type": "markdown",
   "id": "2c46aaaa",
   "metadata": {},
   "source": [
    "## Univariate Analysis"
   ]
  },
  {
   "cell_type": "markdown",
   "id": "d4baeac5",
   "metadata": {},
   "source": [
    "## Histogram"
   ]
  },
  {
   "cell_type": "code",
   "execution_count": 204,
   "id": "d5e2a096",
   "metadata": {},
   "outputs": [
    {
     "data": {
      "image/png": "[encoded data removed]",
      "text/plain": [
       "<Figure size 1000x1400 with 8 Axes>"
      ]
     },
     "metadata": {},
     "output_type": "display_data"
    }
   ],
   "source": [
    "plt.figure(figsize=(10,14))\n",
    "for i in range(len(eda_num)):\n",
    "    plt.subplot(4,2,i+1)\n",
    "    sns.histplot(x=df[eda_num[i]],kde=True)\n",
    "    plt.title(f'Histogram for {eda_num[i]}')\n",
    "plt.tight_layout()\n",
    "plt.show()"
   ]
  },
  {
   "cell_type": "markdown",
   "id": "0dba2497",
   "metadata": {},
   "source": [
    "* mostly data is right skewed except bloodpressure and glucose\n",
    "* bmi shows a normal distribution"
   ]
  },
  {
   "cell_type": "markdown",
   "id": "22d983be",
   "metadata": {},
   "source": [
    "## Boxplot"
   ]
  },
  {
   "cell_type": "code",
   "execution_count": 205,
   "id": "5abd5f79",
   "metadata": {},
   "outputs": [
    {
     "data": {
      "image/png": "[encoded data removed]",
      "text/plain": [
       "<Figure size 1000x1400 with 8 Axes>"
      ]
     },
     "metadata": {},
     "output_type": "display_data"
    }
   ],
   "source": [
    "plt.figure(figsize=(10,14))\n",
    "for i in range(len(eda_num)):\n",
    "    plt.subplot(4,2,i+1)\n",
    "    sns.boxplot(x=df[eda_num[i]])\n",
    "    plt.title(f'Boxplot for {eda_num[i]}')\n",
    "plt.tight_layout()\n",
    "plt.show()"
   ]
  },
  {
   "cell_type": "markdown",
   "id": "a7abaecf",
   "metadata": {},
   "source": [
    "* all have right outliers except blood pressure and bmi they have left outliers also\n",
    "* glucose has only left outliers"
   ]
  },
  {
   "cell_type": "markdown",
   "id": "92bedab8",
   "metadata": {},
   "source": [
    "## Bivariate Analysis"
   ]
  },
  {
   "cell_type": "markdown",
   "id": "4fae5fbe",
   "metadata": {},
   "source": [
    "## Countplot"
   ]
  },
  {
   "cell_type": "code",
   "execution_count": 206,
   "id": "6e220f9f",
   "metadata": {},
   "outputs": [
    {
     "data": {
      "image/png": "[encoded data removed]",
      "text/plain": [
       "<Figure size 500x500 with 1 Axes>"
      ]
     },
     "metadata": {},
     "output_type": "display_data"
    }
   ],
   "source": [
    "plt.figure(figsize=(5,5))\n",
    "ax=sns.countplot(x=df[eda_cat[0]])\n",
    "ax.bar_label(ax.containers[0])\n",
    "plt.title(f'countplot for {eda_cat[0]}')\n",
    "plt.tight_layout()\n",
    "plt.show()"
   ]
  },
  {
   "cell_type": "markdown",
   "id": "8737d419",
   "metadata": {},
   "source": [
    "* people of 0,1 and 2 pregnancies are present in major numbers"
   ]
  },
  {
   "cell_type": "markdown",
   "id": "d5757d3c",
   "metadata": {},
   "source": [
    "## Boxplot WRT to Target"
   ]
  },
  {
   "cell_type": "code",
   "execution_count": 207,
   "id": "07e6af27",
   "metadata": {},
   "outputs": [
    {
     "data": {
      "image/png": "[encoded data removed]",
      "text/plain": [
       "<Figure size 1000x1400 with 8 Axes>"
      ]
     },
     "metadata": {},
     "output_type": "display_data"
    }
   ],
   "source": [
    "plt.figure(figsize=(10,14))\n",
    "for i in range(len(eda_num)):\n",
    "    plt.subplot(4,2,i+1)\n",
    "    sns.boxplot(y=df[eda_num[i]], x=df[\"Outcome\"])\n",
    "    plt.title(f\"boxplot for {eda_num[i]} vs outcome\")\n",
    "plt.tight_layout()\n",
    "plt.show()"
   ]
  },
  {
   "cell_type": "markdown",
   "id": "f7038a24",
   "metadata": {},
   "source": [
    "* people have high glucose, age, bmi, pregnancies have chance of being diabetic"
   ]
  },
  {
   "cell_type": "markdown",
   "id": "7e5c994c",
   "metadata": {},
   "source": [
    "## Countplot WRT to Target"
   ]
  },
  {
   "cell_type": "code",
   "execution_count": 208,
   "id": "7e5619ca",
   "metadata": {},
   "outputs": [
    {
     "data": {
      "image/png": "[encoded data removed]",
      "text/plain": [
       "<Figure size 500x500 with 1 Axes>"
      ]
     },
     "metadata": {},
     "output_type": "display_data"
    }
   ],
   "source": [
    "plt.figure(figsize=(5,5))\n",
    "ax=sns.countplot(x=df[eda_num[0]], hue=df[\"Outcome\"])\n",
    "for j in ax.containers:\n",
    "    ax.bar_label(j)\n",
    "plt.title(f\"countplot for {eda_num[0]}\")\n",
    "plt.tight_layout()\n",
    "plt.show()"
   ]
  },
  {
   "cell_type": "markdown",
   "id": "edf69be9",
   "metadata": {},
   "source": [
    "* people having pregnancies greater 6 having very high chance of being diabetic"
   ]
  },
  {
   "cell_type": "code",
   "execution_count": 209,
   "id": "5214caf6",
   "metadata": {},
   "outputs": [],
   "source": [
    "df['Age Bins']=pd.cut(df['Age'],bins=list(range(20,85,5)))"
   ]
  },
  {
   "cell_type": "code",
   "execution_count": 210,
   "id": "ef472669",
   "metadata": {},
   "outputs": [
    {
     "data": {
      "text/html": [
       "<div>\n",
       "<style scoped>\n",
       "    .dataframe tbody tr th:only-of-type {\n",
       "        vertical-align: middle;\n",
       "    }\n",
       "\n",
       "    .dataframe tbody tr th {\n",
       "        vertical-align: top;\n",
       "    }\n",
       "\n",
       "    .dataframe thead th {\n",
       "        text-align: right;\n",
       "    }\n",
       "</style>\n",
       "<table border=\"1\" class=\"dataframe\">\n",
       "  <thead>\n",
       "    <tr style=\"text-align: right;\">\n",
       "      <th></th>\n",
       "      <th>Pregnancies</th>\n",
       "      <th>Glucose</th>\n",
       "      <th>BloodPressure</th>\n",
       "      <th>SkinThickness</th>\n",
       "      <th>Insulin</th>\n",
       "      <th>BMI</th>\n",
       "      <th>DiabetesPedigreeFunction</th>\n",
       "      <th>Age</th>\n",
       "      <th>Outcome</th>\n",
       "      <th>Age Bins</th>\n",
       "    </tr>\n",
       "  </thead>\n",
       "  <tbody>\n",
       "    <tr>\n",
       "      <th>0</th>\n",
       "      <td>6</td>\n",
       "      <td>148</td>\n",
       "      <td>72</td>\n",
       "      <td>35</td>\n",
       "      <td>0</td>\n",
       "      <td>33.6</td>\n",
       "      <td>0.627</td>\n",
       "      <td>50</td>\n",
       "      <td>1</td>\n",
       "      <td>(45, 50]</td>\n",
       "    </tr>\n",
       "    <tr>\n",
       "      <th>1</th>\n",
       "      <td>1</td>\n",
       "      <td>85</td>\n",
       "      <td>66</td>\n",
       "      <td>29</td>\n",
       "      <td>0</td>\n",
       "      <td>26.6</td>\n",
       "      <td>0.351</td>\n",
       "      <td>31</td>\n",
       "      <td>0</td>\n",
       "      <td>(30, 35]</td>\n",
       "    </tr>\n",
       "    <tr>\n",
       "      <th>2</th>\n",
       "      <td>8</td>\n",
       "      <td>183</td>\n",
       "      <td>64</td>\n",
       "      <td>0</td>\n",
       "      <td>0</td>\n",
       "      <td>23.3</td>\n",
       "      <td>0.672</td>\n",
       "      <td>32</td>\n",
       "      <td>1</td>\n",
       "      <td>(30, 35]</td>\n",
       "    </tr>\n",
       "    <tr>\n",
       "      <th>3</th>\n",
       "      <td>1</td>\n",
       "      <td>89</td>\n",
       "      <td>66</td>\n",
       "      <td>23</td>\n",
       "      <td>94</td>\n",
       "      <td>28.1</td>\n",
       "      <td>0.167</td>\n",
       "      <td>21</td>\n",
       "      <td>0</td>\n",
       "      <td>(20, 25]</td>\n",
       "    </tr>\n",
       "    <tr>\n",
       "      <th>4</th>\n",
       "      <td>0</td>\n",
       "      <td>137</td>\n",
       "      <td>40</td>\n",
       "      <td>35</td>\n",
       "      <td>168</td>\n",
       "      <td>43.1</td>\n",
       "      <td>2.288</td>\n",
       "      <td>33</td>\n",
       "      <td>1</td>\n",
       "      <td>(30, 35]</td>\n",
       "    </tr>\n",
       "  </tbody>\n",
       "</table>\n",
       "</div>"
      ],
      "text/plain": [
       "   Pregnancies  Glucose  BloodPressure  SkinThickness  Insulin   BMI  \\\n",
       "0            6      148             72             35        0  33.6   \n",
       "1            1       85             66             29        0  26.6   \n",
       "2            8      183             64              0        0  23.3   \n",
       "3            1       89             66             23       94  28.1   \n",
       "4            0      137             40             35      168  43.1   \n",
       "\n",
       "   DiabetesPedigreeFunction  Age  Outcome  Age Bins  \n",
       "0                     0.627   50        1  (45, 50]  \n",
       "1                     0.351   31        0  (30, 35]  \n",
       "2                     0.672   32        1  (30, 35]  \n",
       "3                     0.167   21        0  (20, 25]  \n",
       "4                     2.288   33        1  (30, 35]  "
      ]
     },
     "execution_count": 210,
     "metadata": {},
     "output_type": "execute_result"
    }
   ],
   "source": [
    "df.head()"
   ]
  },
  {
   "cell_type": "code",
   "execution_count": 211,
   "id": "f324580a",
   "metadata": {},
   "outputs": [
    {
     "data": {
      "text/html": [
       "<div>\n",
       "<style scoped>\n",
       "    .dataframe tbody tr th:only-of-type {\n",
       "        vertical-align: middle;\n",
       "    }\n",
       "\n",
       "    .dataframe tbody tr th {\n",
       "        vertical-align: top;\n",
       "    }\n",
       "\n",
       "    .dataframe thead th {\n",
       "        text-align: right;\n",
       "    }\n",
       "</style>\n",
       "<table border=\"1\" class=\"dataframe\">\n",
       "  <thead>\n",
       "    <tr style=\"text-align: right;\">\n",
       "      <th></th>\n",
       "      <th>Age Bins</th>\n",
       "      <th>Outcome</th>\n",
       "      <th>Age</th>\n",
       "    </tr>\n",
       "  </thead>\n",
       "  <tbody>\n",
       "    <tr>\n",
       "      <th>0</th>\n",
       "      <td>(20, 25]</td>\n",
       "      <td>0</td>\n",
       "      <td>222</td>\n",
       "    </tr>\n",
       "    <tr>\n",
       "      <th>1</th>\n",
       "      <td>(20, 25]</td>\n",
       "      <td>1</td>\n",
       "      <td>45</td>\n",
       "    </tr>\n",
       "    <tr>\n",
       "      <th>2</th>\n",
       "      <td>(25, 30]</td>\n",
       "      <td>0</td>\n",
       "      <td>105</td>\n",
       "    </tr>\n",
       "    <tr>\n",
       "      <th>3</th>\n",
       "      <td>(25, 30]</td>\n",
       "      <td>1</td>\n",
       "      <td>45</td>\n",
       "    </tr>\n",
       "    <tr>\n",
       "      <th>4</th>\n",
       "      <td>(30, 35]</td>\n",
       "      <td>0</td>\n",
       "      <td>40</td>\n",
       "    </tr>\n",
       "    <tr>\n",
       "      <th>5</th>\n",
       "      <td>(30, 35]</td>\n",
       "      <td>1</td>\n",
       "      <td>41</td>\n",
       "    </tr>\n",
       "    <tr>\n",
       "      <th>6</th>\n",
       "      <td>(35, 40]</td>\n",
       "      <td>0</td>\n",
       "      <td>41</td>\n",
       "    </tr>\n",
       "    <tr>\n",
       "      <th>7</th>\n",
       "      <td>(35, 40]</td>\n",
       "      <td>1</td>\n",
       "      <td>35</td>\n",
       "    </tr>\n",
       "    <tr>\n",
       "      <th>8</th>\n",
       "      <td>(40, 45]</td>\n",
       "      <td>0</td>\n",
       "      <td>32</td>\n",
       "    </tr>\n",
       "    <tr>\n",
       "      <th>9</th>\n",
       "      <td>(40, 45]</td>\n",
       "      <td>1</td>\n",
       "      <td>44</td>\n",
       "    </tr>\n",
       "    <tr>\n",
       "      <th>10</th>\n",
       "      <td>(45, 50]</td>\n",
       "      <td>0</td>\n",
       "      <td>17</td>\n",
       "    </tr>\n",
       "    <tr>\n",
       "      <th>11</th>\n",
       "      <td>(45, 50]</td>\n",
       "      <td>1</td>\n",
       "      <td>20</td>\n",
       "    </tr>\n",
       "    <tr>\n",
       "      <th>12</th>\n",
       "      <td>(50, 55]</td>\n",
       "      <td>0</td>\n",
       "      <td>10</td>\n",
       "    </tr>\n",
       "    <tr>\n",
       "      <th>13</th>\n",
       "      <td>(50, 55]</td>\n",
       "      <td>1</td>\n",
       "      <td>21</td>\n",
       "    </tr>\n",
       "    <tr>\n",
       "      <th>14</th>\n",
       "      <td>(55, 60]</td>\n",
       "      <td>0</td>\n",
       "      <td>13</td>\n",
       "    </tr>\n",
       "    <tr>\n",
       "      <th>15</th>\n",
       "      <td>(55, 60]</td>\n",
       "      <td>1</td>\n",
       "      <td>10</td>\n",
       "    </tr>\n",
       "    <tr>\n",
       "      <th>16</th>\n",
       "      <td>(60, 65]</td>\n",
       "      <td>0</td>\n",
       "      <td>11</td>\n",
       "    </tr>\n",
       "    <tr>\n",
       "      <th>17</th>\n",
       "      <td>(60, 65]</td>\n",
       "      <td>1</td>\n",
       "      <td>3</td>\n",
       "    </tr>\n",
       "    <tr>\n",
       "      <th>18</th>\n",
       "      <td>(65, 70]</td>\n",
       "      <td>0</td>\n",
       "      <td>7</td>\n",
       "    </tr>\n",
       "    <tr>\n",
       "      <th>19</th>\n",
       "      <td>(65, 70]</td>\n",
       "      <td>1</td>\n",
       "      <td>4</td>\n",
       "    </tr>\n",
       "    <tr>\n",
       "      <th>20</th>\n",
       "      <td>(70, 75]</td>\n",
       "      <td>0</td>\n",
       "      <td>1</td>\n",
       "    </tr>\n",
       "    <tr>\n",
       "      <th>21</th>\n",
       "      <td>(70, 75]</td>\n",
       "      <td>1</td>\n",
       "      <td>0</td>\n",
       "    </tr>\n",
       "    <tr>\n",
       "      <th>22</th>\n",
       "      <td>(75, 80]</td>\n",
       "      <td>0</td>\n",
       "      <td>0</td>\n",
       "    </tr>\n",
       "    <tr>\n",
       "      <th>23</th>\n",
       "      <td>(75, 80]</td>\n",
       "      <td>1</td>\n",
       "      <td>0</td>\n",
       "    </tr>\n",
       "  </tbody>\n",
       "</table>\n",
       "</div>"
      ],
      "text/plain": [
       "    Age Bins  Outcome  Age\n",
       "0   (20, 25]        0  222\n",
       "1   (20, 25]        1   45\n",
       "2   (25, 30]        0  105\n",
       "3   (25, 30]        1   45\n",
       "4   (30, 35]        0   40\n",
       "5   (30, 35]        1   41\n",
       "6   (35, 40]        0   41\n",
       "7   (35, 40]        1   35\n",
       "8   (40, 45]        0   32\n",
       "9   (40, 45]        1   44\n",
       "10  (45, 50]        0   17\n",
       "11  (45, 50]        1   20\n",
       "12  (50, 55]        0   10\n",
       "13  (50, 55]        1   21\n",
       "14  (55, 60]        0   13\n",
       "15  (55, 60]        1   10\n",
       "16  (60, 65]        0   11\n",
       "17  (60, 65]        1    3\n",
       "18  (65, 70]        0    7\n",
       "19  (65, 70]        1    4\n",
       "20  (70, 75]        0    1\n",
       "21  (70, 75]        1    0\n",
       "22  (75, 80]        0    0\n",
       "23  (75, 80]        1    0"
      ]
     },
     "execution_count": 211,
     "metadata": {},
     "output_type": "execute_result"
    }
   ],
   "source": [
    "df.groupby([\"Age Bins\",\"Outcome\"])[\"Age\"].count().reset_index()"
   ]
  },
  {
   "cell_type": "markdown",
   "id": "13a29e86",
   "metadata": {},
   "source": [
    "* 35-45 Age group have major Concern of diabetic , Because there age is not so high and still they have diabetic ."
   ]
  },
  {
   "cell_type": "markdown",
   "id": "b1b6c228",
   "metadata": {},
   "source": [
    "## Correlation"
   ]
  },
  {
   "cell_type": "code",
   "execution_count": 212,
   "id": "6f920cb0",
   "metadata": {},
   "outputs": [
    {
     "data": {
      "text/plain": [
       "Index(['Pregnancies', 'Glucose', 'BloodPressure', 'SkinThickness', 'Insulin',\n",
       "       'BMI', 'DiabetesPedigreeFunction', 'Age', 'Outcome', 'Age Bins'],\n",
       "      dtype='object')"
      ]
     },
     "execution_count": 212,
     "metadata": {},
     "output_type": "execute_result"
    }
   ],
   "source": [
    "df.columns"
   ]
  },
  {
   "cell_type": "code",
   "execution_count": 213,
   "id": "49e7525c",
   "metadata": {},
   "outputs": [
    {
     "name": "stderr",
     "output_type": "stream",
     "text": [
      "C:\\Users\\LENOVO\\AppData\\Local\\Temp\\ipykernel_8600\\886929979.py:2: FutureWarning: The default value of numeric_only in DataFrame.corr is deprecated. In a future version, it will default to False. Select only valid columns or specify the value of numeric_only to silence this warning.\n",
      "  'BMI', 'DiabetesPedigreeFunction', 'Age', 'Outcome', 'Age Bins']].corr()\n"
     ]
    }
   ],
   "source": [
    "corr=df[['Pregnancies', 'Glucose', 'BloodPressure', 'SkinThickness', 'Insulin',\n",
    "       'BMI', 'DiabetesPedigreeFunction', 'Age', 'Outcome', 'Age Bins']].corr()"
   ]
  },
  {
   "cell_type": "code",
   "execution_count": 214,
   "id": "611ea7be",
   "metadata": {},
   "outputs": [
    {
     "data": {
      "image/png": "[encoded data removed]",
      "text/plain": [
       "<Figure size 1000x1000 with 2 Axes>"
      ]
     },
     "metadata": {},
     "output_type": "display_data"
    }
   ],
   "source": [
    "plt.figure(figsize=(10,10))\n",
    "sns.heatmap(corr, annot=True, cmap=\"coolwarm\")\n",
    "plt.show()"
   ]
  },
  {
   "cell_type": "markdown",
   "id": "8e379b1b",
   "metadata": {},
   "source": [
    "## Check and Treating Null Values"
   ]
  },
  {
   "cell_type": "code",
   "execution_count": 215,
   "id": "25fc0fb5",
   "metadata": {},
   "outputs": [],
   "source": [
    "def null_check(x):\n",
    "    nv=df.isnull().sum()\n",
    "    res=pd.DataFrame({'Features':nv.index,'Null Count':nv.values,'Null %':(nv.values/df.shape[0])*100})\n",
    "    res=res.sort_values('Null %',ascending=False)\n",
    "    return res"
   ]
  },
  {
   "cell_type": "code",
   "execution_count": 216,
   "id": "68186ae6",
   "metadata": {},
   "outputs": [
    {
     "data": {
      "text/html": [
       "<div>\n",
       "<style scoped>\n",
       "    .dataframe tbody tr th:only-of-type {\n",
       "        vertical-align: middle;\n",
       "    }\n",
       "\n",
       "    .dataframe tbody tr th {\n",
       "        vertical-align: top;\n",
       "    }\n",
       "\n",
       "    .dataframe thead th {\n",
       "        text-align: right;\n",
       "    }\n",
       "</style>\n",
       "<table border=\"1\" class=\"dataframe\">\n",
       "  <thead>\n",
       "    <tr style=\"text-align: right;\">\n",
       "      <th></th>\n",
       "      <th>Features</th>\n",
       "      <th>Null Count</th>\n",
       "      <th>Null %</th>\n",
       "    </tr>\n",
       "  </thead>\n",
       "  <tbody>\n",
       "    <tr>\n",
       "      <th>9</th>\n",
       "      <td>Age Bins</td>\n",
       "      <td>1</td>\n",
       "      <td>0.130208</td>\n",
       "    </tr>\n",
       "    <tr>\n",
       "      <th>0</th>\n",
       "      <td>Pregnancies</td>\n",
       "      <td>0</td>\n",
       "      <td>0.000000</td>\n",
       "    </tr>\n",
       "    <tr>\n",
       "      <th>1</th>\n",
       "      <td>Glucose</td>\n",
       "      <td>0</td>\n",
       "      <td>0.000000</td>\n",
       "    </tr>\n",
       "    <tr>\n",
       "      <th>2</th>\n",
       "      <td>BloodPressure</td>\n",
       "      <td>0</td>\n",
       "      <td>0.000000</td>\n",
       "    </tr>\n",
       "    <tr>\n",
       "      <th>3</th>\n",
       "      <td>SkinThickness</td>\n",
       "      <td>0</td>\n",
       "      <td>0.000000</td>\n",
       "    </tr>\n",
       "    <tr>\n",
       "      <th>4</th>\n",
       "      <td>Insulin</td>\n",
       "      <td>0</td>\n",
       "      <td>0.000000</td>\n",
       "    </tr>\n",
       "    <tr>\n",
       "      <th>5</th>\n",
       "      <td>BMI</td>\n",
       "      <td>0</td>\n",
       "      <td>0.000000</td>\n",
       "    </tr>\n",
       "    <tr>\n",
       "      <th>6</th>\n",
       "      <td>DiabetesPedigreeFunction</td>\n",
       "      <td>0</td>\n",
       "      <td>0.000000</td>\n",
       "    </tr>\n",
       "    <tr>\n",
       "      <th>7</th>\n",
       "      <td>Age</td>\n",
       "      <td>0</td>\n",
       "      <td>0.000000</td>\n",
       "    </tr>\n",
       "    <tr>\n",
       "      <th>8</th>\n",
       "      <td>Outcome</td>\n",
       "      <td>0</td>\n",
       "      <td>0.000000</td>\n",
       "    </tr>\n",
       "  </tbody>\n",
       "</table>\n",
       "</div>"
      ],
      "text/plain": [
       "                   Features  Null Count    Null %\n",
       "9                  Age Bins           1  0.130208\n",
       "0               Pregnancies           0  0.000000\n",
       "1                   Glucose           0  0.000000\n",
       "2             BloodPressure           0  0.000000\n",
       "3             SkinThickness           0  0.000000\n",
       "4                   Insulin           0  0.000000\n",
       "5                       BMI           0  0.000000\n",
       "6  DiabetesPedigreeFunction           0  0.000000\n",
       "7                       Age           0  0.000000\n",
       "8                   Outcome           0  0.000000"
      ]
     },
     "execution_count": 216,
     "metadata": {},
     "output_type": "execute_result"
    }
   ],
   "source": [
    "null_check(df)"
   ]
  },
  {
   "cell_type": "markdown",
   "id": "c6e5cf28",
   "metadata": {},
   "source": [
    "## Check Duplicated "
   ]
  },
  {
   "cell_type": "code",
   "execution_count": 217,
   "id": "1a78129f",
   "metadata": {},
   "outputs": [
    {
     "data": {
      "text/plain": [
       "0"
      ]
     },
     "execution_count": 217,
     "metadata": {},
     "output_type": "execute_result"
    }
   ],
   "source": [
    "df.duplicated().sum()"
   ]
  },
  {
   "cell_type": "code",
   "execution_count": 218,
   "id": "46ec0900",
   "metadata": {},
   "outputs": [
    {
     "data": {
      "text/html": [
       "<div>\n",
       "<style scoped>\n",
       "    .dataframe tbody tr th:only-of-type {\n",
       "        vertical-align: middle;\n",
       "    }\n",
       "\n",
       "    .dataframe tbody tr th {\n",
       "        vertical-align: top;\n",
       "    }\n",
       "\n",
       "    .dataframe thead th {\n",
       "        text-align: right;\n",
       "    }\n",
       "</style>\n",
       "<table border=\"1\" class=\"dataframe\">\n",
       "  <thead>\n",
       "    <tr style=\"text-align: right;\">\n",
       "      <th></th>\n",
       "      <th>count</th>\n",
       "      <th>mean</th>\n",
       "      <th>std</th>\n",
       "      <th>min</th>\n",
       "      <th>1%</th>\n",
       "      <th>2%</th>\n",
       "      <th>3%</th>\n",
       "      <th>4%</th>\n",
       "      <th>5%</th>\n",
       "      <th>10%</th>\n",
       "      <th>25%</th>\n",
       "      <th>50%</th>\n",
       "      <th>75%</th>\n",
       "      <th>90%</th>\n",
       "      <th>95%</th>\n",
       "      <th>96%</th>\n",
       "      <th>97%</th>\n",
       "      <th>98%</th>\n",
       "      <th>99%</th>\n",
       "      <th>max</th>\n",
       "    </tr>\n",
       "  </thead>\n",
       "  <tbody>\n",
       "    <tr>\n",
       "      <th>Pregnancies</th>\n",
       "      <td>768.0</td>\n",
       "      <td>3.845052</td>\n",
       "      <td>3.369578</td>\n",
       "      <td>0.000</td>\n",
       "      <td>0.00000</td>\n",
       "      <td>0.00000</td>\n",
       "      <td>0.00000</td>\n",
       "      <td>0.000</td>\n",
       "      <td>0.00000</td>\n",
       "      <td>0.000</td>\n",
       "      <td>1.00000</td>\n",
       "      <td>3.0000</td>\n",
       "      <td>6.00000</td>\n",
       "      <td>9.0000</td>\n",
       "      <td>10.00000</td>\n",
       "      <td>11.00000</td>\n",
       "      <td>11.00000</td>\n",
       "      <td>12.00000</td>\n",
       "      <td>13.00000</td>\n",
       "      <td>17.00</td>\n",
       "    </tr>\n",
       "    <tr>\n",
       "      <th>Glucose</th>\n",
       "      <td>768.0</td>\n",
       "      <td>120.894531</td>\n",
       "      <td>31.972618</td>\n",
       "      <td>0.000</td>\n",
       "      <td>57.00000</td>\n",
       "      <td>69.02000</td>\n",
       "      <td>73.01000</td>\n",
       "      <td>76.000</td>\n",
       "      <td>79.00000</td>\n",
       "      <td>85.000</td>\n",
       "      <td>99.00000</td>\n",
       "      <td>117.0000</td>\n",
       "      <td>140.25000</td>\n",
       "      <td>167.0000</td>\n",
       "      <td>181.00000</td>\n",
       "      <td>184.00000</td>\n",
       "      <td>187.99000</td>\n",
       "      <td>192.32000</td>\n",
       "      <td>196.00000</td>\n",
       "      <td>199.00</td>\n",
       "    </tr>\n",
       "    <tr>\n",
       "      <th>BloodPressure</th>\n",
       "      <td>768.0</td>\n",
       "      <td>69.105469</td>\n",
       "      <td>19.355807</td>\n",
       "      <td>0.000</td>\n",
       "      <td>0.00000</td>\n",
       "      <td>0.00000</td>\n",
       "      <td>0.00000</td>\n",
       "      <td>0.000</td>\n",
       "      <td>38.70000</td>\n",
       "      <td>54.000</td>\n",
       "      <td>62.00000</td>\n",
       "      <td>72.0000</td>\n",
       "      <td>80.00000</td>\n",
       "      <td>88.0000</td>\n",
       "      <td>90.00000</td>\n",
       "      <td>92.00000</td>\n",
       "      <td>94.99000</td>\n",
       "      <td>99.32000</td>\n",
       "      <td>106.00000</td>\n",
       "      <td>122.00</td>\n",
       "    </tr>\n",
       "    <tr>\n",
       "      <th>SkinThickness</th>\n",
       "      <td>768.0</td>\n",
       "      <td>20.536458</td>\n",
       "      <td>15.952218</td>\n",
       "      <td>0.000</td>\n",
       "      <td>0.00000</td>\n",
       "      <td>0.00000</td>\n",
       "      <td>0.00000</td>\n",
       "      <td>0.000</td>\n",
       "      <td>0.00000</td>\n",
       "      <td>0.000</td>\n",
       "      <td>0.00000</td>\n",
       "      <td>23.0000</td>\n",
       "      <td>32.00000</td>\n",
       "      <td>40.0000</td>\n",
       "      <td>44.00000</td>\n",
       "      <td>45.32000</td>\n",
       "      <td>46.00000</td>\n",
       "      <td>48.00000</td>\n",
       "      <td>51.33000</td>\n",
       "      <td>99.00</td>\n",
       "    </tr>\n",
       "    <tr>\n",
       "      <th>Insulin</th>\n",
       "      <td>768.0</td>\n",
       "      <td>79.799479</td>\n",
       "      <td>115.244002</td>\n",
       "      <td>0.000</td>\n",
       "      <td>0.00000</td>\n",
       "      <td>0.00000</td>\n",
       "      <td>0.00000</td>\n",
       "      <td>0.000</td>\n",
       "      <td>0.00000</td>\n",
       "      <td>0.000</td>\n",
       "      <td>0.00000</td>\n",
       "      <td>30.5000</td>\n",
       "      <td>127.25000</td>\n",
       "      <td>210.0000</td>\n",
       "      <td>293.00000</td>\n",
       "      <td>325.00000</td>\n",
       "      <td>369.90000</td>\n",
       "      <td>470.94000</td>\n",
       "      <td>519.90000</td>\n",
       "      <td>846.00</td>\n",
       "    </tr>\n",
       "    <tr>\n",
       "      <th>BMI</th>\n",
       "      <td>768.0</td>\n",
       "      <td>31.992578</td>\n",
       "      <td>7.884160</td>\n",
       "      <td>0.000</td>\n",
       "      <td>0.00000</td>\n",
       "      <td>19.16800</td>\n",
       "      <td>19.90100</td>\n",
       "      <td>21.000</td>\n",
       "      <td>21.80000</td>\n",
       "      <td>23.600</td>\n",
       "      <td>27.30000</td>\n",
       "      <td>32.0000</td>\n",
       "      <td>36.60000</td>\n",
       "      <td>41.5000</td>\n",
       "      <td>44.39500</td>\n",
       "      <td>45.33200</td>\n",
       "      <td>46.10000</td>\n",
       "      <td>47.52600</td>\n",
       "      <td>50.75900</td>\n",
       "      <td>67.10</td>\n",
       "    </tr>\n",
       "    <tr>\n",
       "      <th>DiabetesPedigreeFunction</th>\n",
       "      <td>768.0</td>\n",
       "      <td>0.471876</td>\n",
       "      <td>0.331329</td>\n",
       "      <td>0.078</td>\n",
       "      <td>0.09468</td>\n",
       "      <td>0.11902</td>\n",
       "      <td>0.12701</td>\n",
       "      <td>0.134</td>\n",
       "      <td>0.14035</td>\n",
       "      <td>0.165</td>\n",
       "      <td>0.24375</td>\n",
       "      <td>0.3725</td>\n",
       "      <td>0.62625</td>\n",
       "      <td>0.8786</td>\n",
       "      <td>1.13285</td>\n",
       "      <td>1.18424</td>\n",
       "      <td>1.25793</td>\n",
       "      <td>1.39066</td>\n",
       "      <td>1.69833</td>\n",
       "      <td>2.42</td>\n",
       "    </tr>\n",
       "    <tr>\n",
       "      <th>Age</th>\n",
       "      <td>768.0</td>\n",
       "      <td>33.240885</td>\n",
       "      <td>11.760232</td>\n",
       "      <td>21.000</td>\n",
       "      <td>21.00000</td>\n",
       "      <td>21.00000</td>\n",
       "      <td>21.00000</td>\n",
       "      <td>21.000</td>\n",
       "      <td>21.00000</td>\n",
       "      <td>22.000</td>\n",
       "      <td>24.00000</td>\n",
       "      <td>29.0000</td>\n",
       "      <td>41.00000</td>\n",
       "      <td>51.0000</td>\n",
       "      <td>58.00000</td>\n",
       "      <td>60.00000</td>\n",
       "      <td>62.00000</td>\n",
       "      <td>64.66000</td>\n",
       "      <td>67.00000</td>\n",
       "      <td>81.00</td>\n",
       "    </tr>\n",
       "    <tr>\n",
       "      <th>Outcome</th>\n",
       "      <td>768.0</td>\n",
       "      <td>0.348958</td>\n",
       "      <td>0.476951</td>\n",
       "      <td>0.000</td>\n",
       "      <td>0.00000</td>\n",
       "      <td>0.00000</td>\n",
       "      <td>0.00000</td>\n",
       "      <td>0.000</td>\n",
       "      <td>0.00000</td>\n",
       "      <td>0.000</td>\n",
       "      <td>0.00000</td>\n",
       "      <td>0.0000</td>\n",
       "      <td>1.00000</td>\n",
       "      <td>1.0000</td>\n",
       "      <td>1.00000</td>\n",
       "      <td>1.00000</td>\n",
       "      <td>1.00000</td>\n",
       "      <td>1.00000</td>\n",
       "      <td>1.00000</td>\n",
       "      <td>1.00</td>\n",
       "    </tr>\n",
       "  </tbody>\n",
       "</table>\n",
       "</div>"
      ],
      "text/plain": [
       "                          count        mean         std     min        1%  \\\n",
       "Pregnancies               768.0    3.845052    3.369578   0.000   0.00000   \n",
       "Glucose                   768.0  120.894531   31.972618   0.000  57.00000   \n",
       "BloodPressure             768.0   69.105469   19.355807   0.000   0.00000   \n",
       "SkinThickness             768.0   20.536458   15.952218   0.000   0.00000   \n",
       "Insulin                   768.0   79.799479  115.244002   0.000   0.00000   \n",
       "BMI                       768.0   31.992578    7.884160   0.000   0.00000   \n",
       "DiabetesPedigreeFunction  768.0    0.471876    0.331329   0.078   0.09468   \n",
       "Age                       768.0   33.240885   11.760232  21.000  21.00000   \n",
       "Outcome                   768.0    0.348958    0.476951   0.000   0.00000   \n",
       "\n",
       "                                2%        3%      4%        5%     10%  \\\n",
       "Pregnancies                0.00000   0.00000   0.000   0.00000   0.000   \n",
       "Glucose                   69.02000  73.01000  76.000  79.00000  85.000   \n",
       "BloodPressure              0.00000   0.00000   0.000  38.70000  54.000   \n",
       "SkinThickness              0.00000   0.00000   0.000   0.00000   0.000   \n",
       "Insulin                    0.00000   0.00000   0.000   0.00000   0.000   \n",
       "BMI                       19.16800  19.90100  21.000  21.80000  23.600   \n",
       "DiabetesPedigreeFunction   0.11902   0.12701   0.134   0.14035   0.165   \n",
       "Age                       21.00000  21.00000  21.000  21.00000  22.000   \n",
       "Outcome                    0.00000   0.00000   0.000   0.00000   0.000   \n",
       "\n",
       "                               25%       50%        75%       90%        95%  \\\n",
       "Pregnancies                1.00000    3.0000    6.00000    9.0000   10.00000   \n",
       "Glucose                   99.00000  117.0000  140.25000  167.0000  181.00000   \n",
       "BloodPressure             62.00000   72.0000   80.00000   88.0000   90.00000   \n",
       "SkinThickness              0.00000   23.0000   32.00000   40.0000   44.00000   \n",
       "Insulin                    0.00000   30.5000  127.25000  210.0000  293.00000   \n",
       "BMI                       27.30000   32.0000   36.60000   41.5000   44.39500   \n",
       "DiabetesPedigreeFunction   0.24375    0.3725    0.62625    0.8786    1.13285   \n",
       "Age                       24.00000   29.0000   41.00000   51.0000   58.00000   \n",
       "Outcome                    0.00000    0.0000    1.00000    1.0000    1.00000   \n",
       "\n",
       "                                96%        97%        98%        99%     max  \n",
       "Pregnancies                11.00000   11.00000   12.00000   13.00000   17.00  \n",
       "Glucose                   184.00000  187.99000  192.32000  196.00000  199.00  \n",
       "BloodPressure              92.00000   94.99000   99.32000  106.00000  122.00  \n",
       "SkinThickness              45.32000   46.00000   48.00000   51.33000   99.00  \n",
       "Insulin                   325.00000  369.90000  470.94000  519.90000  846.00  \n",
       "BMI                        45.33200   46.10000   47.52600   50.75900   67.10  \n",
       "DiabetesPedigreeFunction    1.18424    1.25793    1.39066    1.69833    2.42  \n",
       "Age                        60.00000   62.00000   64.66000   67.00000   81.00  \n",
       "Outcome                     1.00000    1.00000    1.00000    1.00000    1.00  "
      ]
     },
     "execution_count": 218,
     "metadata": {},
     "output_type": "execute_result"
    }
   ],
   "source": [
    "df.describe(percentiles=[0.01,.02,.03,.04,.05,.1,.25,.50,.75,.90,.95, .96,.97,.98,.99]).T"
   ]
  },
  {
   "cell_type": "code",
   "execution_count": 219,
   "id": "10756233",
   "metadata": {},
   "outputs": [],
   "source": [
    "def outliercapM1(x):\n",
    "  x=x.clip(upper=x.quantile(.99))\n",
    "  # x=x.clip(lower=x.quantile(.01))\n",
    "  return x"
   ]
  },
  {
   "cell_type": "code",
   "execution_count": 220,
   "id": "6349f42e",
   "metadata": {},
   "outputs": [],
   "source": [
    "df=df.apply(outliercapM1)"
   ]
  },
  {
   "cell_type": "code",
   "execution_count": 221,
   "id": "86863ec0",
   "metadata": {},
   "outputs": [
    {
     "data": {
      "text/html": [
       "<div>\n",
       "<style scoped>\n",
       "    .dataframe tbody tr th:only-of-type {\n",
       "        vertical-align: middle;\n",
       "    }\n",
       "\n",
       "    .dataframe tbody tr th {\n",
       "        vertical-align: top;\n",
       "    }\n",
       "\n",
       "    .dataframe thead th {\n",
       "        text-align: right;\n",
       "    }\n",
       "</style>\n",
       "<table border=\"1\" class=\"dataframe\">\n",
       "  <thead>\n",
       "    <tr style=\"text-align: right;\">\n",
       "      <th></th>\n",
       "      <th>count</th>\n",
       "      <th>mean</th>\n",
       "      <th>std</th>\n",
       "      <th>min</th>\n",
       "      <th>1%</th>\n",
       "      <th>2%</th>\n",
       "      <th>3%</th>\n",
       "      <th>4%</th>\n",
       "      <th>5%</th>\n",
       "      <th>10%</th>\n",
       "      <th>25%</th>\n",
       "      <th>50%</th>\n",
       "      <th>75%</th>\n",
       "      <th>90%</th>\n",
       "      <th>95%</th>\n",
       "      <th>96%</th>\n",
       "      <th>97%</th>\n",
       "      <th>98%</th>\n",
       "      <th>99%</th>\n",
       "      <th>max</th>\n",
       "    </tr>\n",
       "  </thead>\n",
       "  <tbody>\n",
       "    <tr>\n",
       "      <th>Pregnancies</th>\n",
       "      <td>768.0</td>\n",
       "      <td>3.834635</td>\n",
       "      <td>3.336808</td>\n",
       "      <td>0.000</td>\n",
       "      <td>0.00000</td>\n",
       "      <td>0.00000</td>\n",
       "      <td>0.00000</td>\n",
       "      <td>0.000</td>\n",
       "      <td>0.00000</td>\n",
       "      <td>0.000</td>\n",
       "      <td>1.00000</td>\n",
       "      <td>3.0000</td>\n",
       "      <td>6.00000</td>\n",
       "      <td>9.0000</td>\n",
       "      <td>10.00000</td>\n",
       "      <td>11.00000</td>\n",
       "      <td>11.00000</td>\n",
       "      <td>12.00000</td>\n",
       "      <td>13.000000</td>\n",
       "      <td>13.00000</td>\n",
       "    </tr>\n",
       "    <tr>\n",
       "      <th>Glucose</th>\n",
       "      <td>768.0</td>\n",
       "      <td>120.882812</td>\n",
       "      <td>31.944693</td>\n",
       "      <td>0.000</td>\n",
       "      <td>57.00000</td>\n",
       "      <td>69.02000</td>\n",
       "      <td>73.01000</td>\n",
       "      <td>76.000</td>\n",
       "      <td>79.00000</td>\n",
       "      <td>85.000</td>\n",
       "      <td>99.00000</td>\n",
       "      <td>117.0000</td>\n",
       "      <td>140.25000</td>\n",
       "      <td>167.0000</td>\n",
       "      <td>181.00000</td>\n",
       "      <td>184.00000</td>\n",
       "      <td>187.99000</td>\n",
       "      <td>192.32000</td>\n",
       "      <td>196.000000</td>\n",
       "      <td>196.00000</td>\n",
       "    </tr>\n",
       "    <tr>\n",
       "      <th>BloodPressure</th>\n",
       "      <td>768.0</td>\n",
       "      <td>69.053385</td>\n",
       "      <td>19.243340</td>\n",
       "      <td>0.000</td>\n",
       "      <td>0.00000</td>\n",
       "      <td>0.00000</td>\n",
       "      <td>0.00000</td>\n",
       "      <td>0.000</td>\n",
       "      <td>38.70000</td>\n",
       "      <td>54.000</td>\n",
       "      <td>62.00000</td>\n",
       "      <td>72.0000</td>\n",
       "      <td>80.00000</td>\n",
       "      <td>88.0000</td>\n",
       "      <td>90.00000</td>\n",
       "      <td>92.00000</td>\n",
       "      <td>94.99000</td>\n",
       "      <td>99.32000</td>\n",
       "      <td>106.000000</td>\n",
       "      <td>106.00000</td>\n",
       "    </tr>\n",
       "    <tr>\n",
       "      <th>SkinThickness</th>\n",
       "      <td>768.0</td>\n",
       "      <td>20.433125</td>\n",
       "      <td>15.646206</td>\n",
       "      <td>0.000</td>\n",
       "      <td>0.00000</td>\n",
       "      <td>0.00000</td>\n",
       "      <td>0.00000</td>\n",
       "      <td>0.000</td>\n",
       "      <td>0.00000</td>\n",
       "      <td>0.000</td>\n",
       "      <td>0.00000</td>\n",
       "      <td>23.0000</td>\n",
       "      <td>32.00000</td>\n",
       "      <td>40.0000</td>\n",
       "      <td>44.00000</td>\n",
       "      <td>45.32000</td>\n",
       "      <td>46.00000</td>\n",
       "      <td>48.00000</td>\n",
       "      <td>51.108900</td>\n",
       "      <td>51.33000</td>\n",
       "    </tr>\n",
       "    <tr>\n",
       "      <th>Insulin</th>\n",
       "      <td>768.0</td>\n",
       "      <td>78.604427</td>\n",
       "      <td>109.425722</td>\n",
       "      <td>0.000</td>\n",
       "      <td>0.00000</td>\n",
       "      <td>0.00000</td>\n",
       "      <td>0.00000</td>\n",
       "      <td>0.000</td>\n",
       "      <td>0.00000</td>\n",
       "      <td>0.000</td>\n",
       "      <td>0.00000</td>\n",
       "      <td>30.5000</td>\n",
       "      <td>127.25000</td>\n",
       "      <td>210.0000</td>\n",
       "      <td>293.00000</td>\n",
       "      <td>325.00000</td>\n",
       "      <td>369.90000</td>\n",
       "      <td>470.94000</td>\n",
       "      <td>513.267000</td>\n",
       "      <td>519.90000</td>\n",
       "    </tr>\n",
       "    <tr>\n",
       "      <th>BMI</th>\n",
       "      <td>768.0</td>\n",
       "      <td>31.936031</td>\n",
       "      <td>7.712781</td>\n",
       "      <td>0.000</td>\n",
       "      <td>0.00000</td>\n",
       "      <td>19.16800</td>\n",
       "      <td>19.90100</td>\n",
       "      <td>21.000</td>\n",
       "      <td>21.80000</td>\n",
       "      <td>23.600</td>\n",
       "      <td>27.30000</td>\n",
       "      <td>32.0000</td>\n",
       "      <td>36.60000</td>\n",
       "      <td>41.5000</td>\n",
       "      <td>44.39500</td>\n",
       "      <td>45.33200</td>\n",
       "      <td>46.10000</td>\n",
       "      <td>47.52600</td>\n",
       "      <td>50.250470</td>\n",
       "      <td>50.75900</td>\n",
       "    </tr>\n",
       "    <tr>\n",
       "      <th>DiabetesPedigreeFunction</th>\n",
       "      <td>768.0</td>\n",
       "      <td>0.468372</td>\n",
       "      <td>0.314957</td>\n",
       "      <td>0.078</td>\n",
       "      <td>0.09468</td>\n",
       "      <td>0.11902</td>\n",
       "      <td>0.12701</td>\n",
       "      <td>0.134</td>\n",
       "      <td>0.14035</td>\n",
       "      <td>0.165</td>\n",
       "      <td>0.24375</td>\n",
       "      <td>0.3725</td>\n",
       "      <td>0.62625</td>\n",
       "      <td>0.8786</td>\n",
       "      <td>1.13285</td>\n",
       "      <td>1.18424</td>\n",
       "      <td>1.25793</td>\n",
       "      <td>1.39066</td>\n",
       "      <td>1.698109</td>\n",
       "      <td>1.69833</td>\n",
       "    </tr>\n",
       "    <tr>\n",
       "      <th>Age</th>\n",
       "      <td>768.0</td>\n",
       "      <td>33.205729</td>\n",
       "      <td>11.645318</td>\n",
       "      <td>21.000</td>\n",
       "      <td>21.00000</td>\n",
       "      <td>21.00000</td>\n",
       "      <td>21.00000</td>\n",
       "      <td>21.000</td>\n",
       "      <td>21.00000</td>\n",
       "      <td>22.000</td>\n",
       "      <td>24.00000</td>\n",
       "      <td>29.0000</td>\n",
       "      <td>41.00000</td>\n",
       "      <td>51.0000</td>\n",
       "      <td>58.00000</td>\n",
       "      <td>60.00000</td>\n",
       "      <td>62.00000</td>\n",
       "      <td>64.66000</td>\n",
       "      <td>67.000000</td>\n",
       "      <td>67.00000</td>\n",
       "    </tr>\n",
       "    <tr>\n",
       "      <th>Outcome</th>\n",
       "      <td>768.0</td>\n",
       "      <td>0.348958</td>\n",
       "      <td>0.476951</td>\n",
       "      <td>0.000</td>\n",
       "      <td>0.00000</td>\n",
       "      <td>0.00000</td>\n",
       "      <td>0.00000</td>\n",
       "      <td>0.000</td>\n",
       "      <td>0.00000</td>\n",
       "      <td>0.000</td>\n",
       "      <td>0.00000</td>\n",
       "      <td>0.0000</td>\n",
       "      <td>1.00000</td>\n",
       "      <td>1.0000</td>\n",
       "      <td>1.00000</td>\n",
       "      <td>1.00000</td>\n",
       "      <td>1.00000</td>\n",
       "      <td>1.00000</td>\n",
       "      <td>1.000000</td>\n",
       "      <td>1.00000</td>\n",
       "    </tr>\n",
       "  </tbody>\n",
       "</table>\n",
       "</div>"
      ],
      "text/plain": [
       "                          count        mean         std     min        1%  \\\n",
       "Pregnancies               768.0    3.834635    3.336808   0.000   0.00000   \n",
       "Glucose                   768.0  120.882812   31.944693   0.000  57.00000   \n",
       "BloodPressure             768.0   69.053385   19.243340   0.000   0.00000   \n",
       "SkinThickness             768.0   20.433125   15.646206   0.000   0.00000   \n",
       "Insulin                   768.0   78.604427  109.425722   0.000   0.00000   \n",
       "BMI                       768.0   31.936031    7.712781   0.000   0.00000   \n",
       "DiabetesPedigreeFunction  768.0    0.468372    0.314957   0.078   0.09468   \n",
       "Age                       768.0   33.205729   11.645318  21.000  21.00000   \n",
       "Outcome                   768.0    0.348958    0.476951   0.000   0.00000   \n",
       "\n",
       "                                2%        3%      4%        5%     10%  \\\n",
       "Pregnancies                0.00000   0.00000   0.000   0.00000   0.000   \n",
       "Glucose                   69.02000  73.01000  76.000  79.00000  85.000   \n",
       "BloodPressure              0.00000   0.00000   0.000  38.70000  54.000   \n",
       "SkinThickness              0.00000   0.00000   0.000   0.00000   0.000   \n",
       "Insulin                    0.00000   0.00000   0.000   0.00000   0.000   \n",
       "BMI                       19.16800  19.90100  21.000  21.80000  23.600   \n",
       "DiabetesPedigreeFunction   0.11902   0.12701   0.134   0.14035   0.165   \n",
       "Age                       21.00000  21.00000  21.000  21.00000  22.000   \n",
       "Outcome                    0.00000   0.00000   0.000   0.00000   0.000   \n",
       "\n",
       "                               25%       50%        75%       90%        95%  \\\n",
       "Pregnancies                1.00000    3.0000    6.00000    9.0000   10.00000   \n",
       "Glucose                   99.00000  117.0000  140.25000  167.0000  181.00000   \n",
       "BloodPressure             62.00000   72.0000   80.00000   88.0000   90.00000   \n",
       "SkinThickness              0.00000   23.0000   32.00000   40.0000   44.00000   \n",
       "Insulin                    0.00000   30.5000  127.25000  210.0000  293.00000   \n",
       "BMI                       27.30000   32.0000   36.60000   41.5000   44.39500   \n",
       "DiabetesPedigreeFunction   0.24375    0.3725    0.62625    0.8786    1.13285   \n",
       "Age                       24.00000   29.0000   41.00000   51.0000   58.00000   \n",
       "Outcome                    0.00000    0.0000    1.00000    1.0000    1.00000   \n",
       "\n",
       "                                96%        97%        98%         99%  \\\n",
       "Pregnancies                11.00000   11.00000   12.00000   13.000000   \n",
       "Glucose                   184.00000  187.99000  192.32000  196.000000   \n",
       "BloodPressure              92.00000   94.99000   99.32000  106.000000   \n",
       "SkinThickness              45.32000   46.00000   48.00000   51.108900   \n",
       "Insulin                   325.00000  369.90000  470.94000  513.267000   \n",
       "BMI                        45.33200   46.10000   47.52600   50.250470   \n",
       "DiabetesPedigreeFunction    1.18424    1.25793    1.39066    1.698109   \n",
       "Age                        60.00000   62.00000   64.66000   67.000000   \n",
       "Outcome                     1.00000    1.00000    1.00000    1.000000   \n",
       "\n",
       "                                max  \n",
       "Pregnancies                13.00000  \n",
       "Glucose                   196.00000  \n",
       "BloodPressure             106.00000  \n",
       "SkinThickness              51.33000  \n",
       "Insulin                   519.90000  \n",
       "BMI                        50.75900  \n",
       "DiabetesPedigreeFunction    1.69833  \n",
       "Age                        67.00000  \n",
       "Outcome                     1.00000  "
      ]
     },
     "execution_count": 221,
     "metadata": {},
     "output_type": "execute_result"
    }
   ],
   "source": [
    "df.describe(percentiles=[0.01,.02,.03,.04,.05,.1,.25,.50,.75,.90,.95, .96,.97,.98,.99]).T"
   ]
  },
  {
   "cell_type": "markdown",
   "id": "b8da5faa",
   "metadata": {},
   "source": [
    "## Treating the Inconsistent data"
   ]
  },
  {
   "cell_type": "code",
   "execution_count": 222,
   "id": "e0acc1bd",
   "metadata": {},
   "outputs": [
    {
     "data": {
      "text/plain": [
       "(768, 10)"
      ]
     },
     "execution_count": 222,
     "metadata": {},
     "output_type": "execute_result"
    }
   ],
   "source": [
    "df.shape"
   ]
  },
  {
   "cell_type": "code",
   "execution_count": 223,
   "id": "a5043e1f",
   "metadata": {},
   "outputs": [
    {
     "data": {
      "text/plain": [
       "(5, 10)"
      ]
     },
     "execution_count": 223,
     "metadata": {},
     "output_type": "execute_result"
    }
   ],
   "source": [
    "df[df[\"Glucose\"]==0.00].shape"
   ]
  },
  {
   "cell_type": "code",
   "execution_count": 224,
   "id": "aa118664",
   "metadata": {},
   "outputs": [],
   "source": [
    "df[\"Glucose\"]=np.where(df[\"Glucose\"]==0.00,df[\"Glucose\"].median(),df[\"Glucose\"])"
   ]
  },
  {
   "cell_type": "code",
   "execution_count": 225,
   "id": "62a780e1",
   "metadata": {},
   "outputs": [
    {
     "data": {
      "text/plain": [
       "(35, 10)"
      ]
     },
     "execution_count": 225,
     "metadata": {},
     "output_type": "execute_result"
    }
   ],
   "source": [
    "df[df['BloodPressure']==0.00].shape"
   ]
  },
  {
   "cell_type": "code",
   "execution_count": 70,
   "id": "ca148b31",
   "metadata": {},
   "outputs": [],
   "source": [
    "df.drop([\"Glucose\"], axis=1, inplace=True)"
   ]
  },
  {
   "cell_type": "code",
   "execution_count": 226,
   "id": "775f9302",
   "metadata": {},
   "outputs": [
    {
     "data": {
      "text/html": [
       "<div>\n",
       "<style scoped>\n",
       "    .dataframe tbody tr th:only-of-type {\n",
       "        vertical-align: middle;\n",
       "    }\n",
       "\n",
       "    .dataframe tbody tr th {\n",
       "        vertical-align: top;\n",
       "    }\n",
       "\n",
       "    .dataframe thead th {\n",
       "        text-align: right;\n",
       "    }\n",
       "</style>\n",
       "<table border=\"1\" class=\"dataframe\">\n",
       "  <thead>\n",
       "    <tr style=\"text-align: right;\">\n",
       "      <th></th>\n",
       "      <th>Pregnancies</th>\n",
       "      <th>Glucose</th>\n",
       "      <th>BloodPressure</th>\n",
       "      <th>SkinThickness</th>\n",
       "      <th>Insulin</th>\n",
       "      <th>BMI</th>\n",
       "      <th>DiabetesPedigreeFunction</th>\n",
       "      <th>Age</th>\n",
       "      <th>Outcome</th>\n",
       "      <th>Age Bins</th>\n",
       "    </tr>\n",
       "  </thead>\n",
       "  <tbody>\n",
       "    <tr>\n",
       "      <th>0</th>\n",
       "      <td>6</td>\n",
       "      <td>148.0</td>\n",
       "      <td>72</td>\n",
       "      <td>35.0</td>\n",
       "      <td>0.0</td>\n",
       "      <td>33.6</td>\n",
       "      <td>0.62700</td>\n",
       "      <td>50</td>\n",
       "      <td>1</td>\n",
       "      <td>(45, 50]</td>\n",
       "    </tr>\n",
       "    <tr>\n",
       "      <th>1</th>\n",
       "      <td>1</td>\n",
       "      <td>85.0</td>\n",
       "      <td>66</td>\n",
       "      <td>29.0</td>\n",
       "      <td>0.0</td>\n",
       "      <td>26.6</td>\n",
       "      <td>0.35100</td>\n",
       "      <td>31</td>\n",
       "      <td>0</td>\n",
       "      <td>(30, 35]</td>\n",
       "    </tr>\n",
       "    <tr>\n",
       "      <th>2</th>\n",
       "      <td>8</td>\n",
       "      <td>183.0</td>\n",
       "      <td>64</td>\n",
       "      <td>0.0</td>\n",
       "      <td>0.0</td>\n",
       "      <td>23.3</td>\n",
       "      <td>0.67200</td>\n",
       "      <td>32</td>\n",
       "      <td>1</td>\n",
       "      <td>(30, 35]</td>\n",
       "    </tr>\n",
       "    <tr>\n",
       "      <th>3</th>\n",
       "      <td>1</td>\n",
       "      <td>89.0</td>\n",
       "      <td>66</td>\n",
       "      <td>23.0</td>\n",
       "      <td>94.0</td>\n",
       "      <td>28.1</td>\n",
       "      <td>0.16700</td>\n",
       "      <td>21</td>\n",
       "      <td>0</td>\n",
       "      <td>(20, 25]</td>\n",
       "    </tr>\n",
       "    <tr>\n",
       "      <th>4</th>\n",
       "      <td>0</td>\n",
       "      <td>137.0</td>\n",
       "      <td>40</td>\n",
       "      <td>35.0</td>\n",
       "      <td>168.0</td>\n",
       "      <td>43.1</td>\n",
       "      <td>1.69833</td>\n",
       "      <td>33</td>\n",
       "      <td>1</td>\n",
       "      <td>(30, 35]</td>\n",
       "    </tr>\n",
       "  </tbody>\n",
       "</table>\n",
       "</div>"
      ],
      "text/plain": [
       "   Pregnancies  Glucose  BloodPressure  SkinThickness  Insulin   BMI  \\\n",
       "0            6    148.0             72           35.0      0.0  33.6   \n",
       "1            1     85.0             66           29.0      0.0  26.6   \n",
       "2            8    183.0             64            0.0      0.0  23.3   \n",
       "3            1     89.0             66           23.0     94.0  28.1   \n",
       "4            0    137.0             40           35.0    168.0  43.1   \n",
       "\n",
       "   DiabetesPedigreeFunction  Age  Outcome  Age Bins  \n",
       "0                   0.62700   50        1  (45, 50]  \n",
       "1                   0.35100   31        0  (30, 35]  \n",
       "2                   0.67200   32        1  (30, 35]  \n",
       "3                   0.16700   21        0  (20, 25]  \n",
       "4                   1.69833   33        1  (30, 35]  "
      ]
     },
     "execution_count": 226,
     "metadata": {},
     "output_type": "execute_result"
    }
   ],
   "source": [
    "df.head()"
   ]
  },
  {
   "cell_type": "code",
   "execution_count": 227,
   "id": "22e17dfd",
   "metadata": {},
   "outputs": [],
   "source": [
    "df['BloodPressure']=np.where(df['BloodPressure']==0.00,df['BloodPressure'].median(),df['BloodPressure'])"
   ]
  },
  {
   "cell_type": "code",
   "execution_count": 228,
   "id": "d47b1b76",
   "metadata": {},
   "outputs": [
    {
     "data": {
      "text/plain": [
       "(227, 10)"
      ]
     },
     "execution_count": 228,
     "metadata": {},
     "output_type": "execute_result"
    }
   ],
   "source": [
    "df[df[\"SkinThickness\"]==0.00].shape"
   ]
  },
  {
   "cell_type": "code",
   "execution_count": 229,
   "id": "154bd0ff",
   "metadata": {},
   "outputs": [],
   "source": [
    "df[\"SkinThickness\"]=np.where(df[\"SkinThickness\"]==0.00,df[\"SkinThickness\"].median(),df[\"SkinThickness\"])"
   ]
  },
  {
   "cell_type": "code",
   "execution_count": 230,
   "id": "98465342",
   "metadata": {},
   "outputs": [
    {
     "data": {
      "text/plain": [
       "(374, 10)"
      ]
     },
     "execution_count": 230,
     "metadata": {},
     "output_type": "execute_result"
    }
   ],
   "source": [
    "df[df[\"Insulin\"]==0.00].shape"
   ]
  },
  {
   "cell_type": "code",
   "execution_count": 231,
   "id": "893e4cba",
   "metadata": {},
   "outputs": [],
   "source": [
    "df[\"Insulin\"]=np.where(df[\"Insulin\"]==0.00,df[\"Insulin\"].median(),df[\"Insulin\"])"
   ]
  },
  {
   "cell_type": "code",
   "execution_count": 232,
   "id": "eee716c9",
   "metadata": {},
   "outputs": [
    {
     "data": {
      "text/plain": [
       "(11, 10)"
      ]
     },
     "execution_count": 232,
     "metadata": {},
     "output_type": "execute_result"
    }
   ],
   "source": [
    "df[df[\"BMI\"]==0.00].shape"
   ]
  },
  {
   "cell_type": "code",
   "execution_count": 233,
   "id": "4b5c5fbb",
   "metadata": {},
   "outputs": [],
   "source": [
    "df[\"BMI\"]=np.where(df[\"BMI\"]==0.00,df[\"BMI\"].median(),df[\"BMI\"])"
   ]
  },
  {
   "cell_type": "code",
   "execution_count": 234,
   "id": "06de8d00",
   "metadata": {},
   "outputs": [],
   "source": [
    "num_data.fillna(num_data.median(), inplace=True) # Filling median value"
   ]
  },
  {
   "cell_type": "markdown",
   "id": "44421686",
   "metadata": {},
   "source": [
    "## Select X and Y"
   ]
  },
  {
   "cell_type": "code",
   "execution_count": 235,
   "id": "3ea7ad7f",
   "metadata": {},
   "outputs": [],
   "source": [
    "y=df[\"Outcome\"]"
   ]
  },
  {
   "cell_type": "code",
   "execution_count": 236,
   "id": "daf212d9",
   "metadata": {},
   "outputs": [],
   "source": [
    "x=df.drop(['Outcome','Age Bins'],axis=1)"
   ]
  },
  {
   "cell_type": "markdown",
   "id": "0206fcca",
   "metadata": {},
   "source": [
    "## Split into Train and Test Data"
   ]
  },
  {
   "cell_type": "code",
   "execution_count": 237,
   "id": "f2b65ad8",
   "metadata": {},
   "outputs": [],
   "source": [
    "x_train,x_test,y_train,y_test=train_test_split(x,y,test_size=0.25,random_state=42)"
   ]
  },
  {
   "cell_type": "code",
   "execution_count": 238,
   "id": "428fc45d",
   "metadata": {},
   "outputs": [
    {
     "data": {
      "text/plain": [
       "(576, 8)"
      ]
     },
     "execution_count": 238,
     "metadata": {},
     "output_type": "execute_result"
    }
   ],
   "source": [
    "x_train.shape"
   ]
  },
  {
   "cell_type": "code",
   "execution_count": 239,
   "id": "51fbc853",
   "metadata": {},
   "outputs": [
    {
     "data": {
      "text/plain": [
       "(576,)"
      ]
     },
     "execution_count": 239,
     "metadata": {},
     "output_type": "execute_result"
    }
   ],
   "source": [
    "y_train.shape"
   ]
  },
  {
   "cell_type": "code",
   "execution_count": 240,
   "id": "8bef51b4",
   "metadata": {},
   "outputs": [
    {
     "data": {
      "text/plain": [
       "(192, 8)"
      ]
     },
     "execution_count": 240,
     "metadata": {},
     "output_type": "execute_result"
    }
   ],
   "source": [
    "x_test.shape"
   ]
  },
  {
   "cell_type": "code",
   "execution_count": 241,
   "id": "6e82b8fa",
   "metadata": {},
   "outputs": [
    {
     "data": {
      "text/plain": [
       "(192,)"
      ]
     },
     "execution_count": 241,
     "metadata": {},
     "output_type": "execute_result"
    }
   ],
   "source": [
    "y_test.shape"
   ]
  },
  {
   "cell_type": "markdown",
   "id": "9a42d149",
   "metadata": {},
   "source": [
    "## Data Standardization"
   ]
  },
  {
   "cell_type": "code",
   "execution_count": 242,
   "id": "f44cba8c",
   "metadata": {},
   "outputs": [],
   "source": [
    "from sklearn.preprocessing import MinMaxScaler,StandardScaler"
   ]
  },
  {
   "cell_type": "code",
   "execution_count": 243,
   "id": "338b33fd",
   "metadata": {},
   "outputs": [],
   "source": [
    "ss=StandardScaler()"
   ]
  },
  {
   "cell_type": "code",
   "execution_count": 244,
   "id": "3586abbe",
   "metadata": {},
   "outputs": [
    {
     "name": "stdout",
     "output_type": "stream",
     "text": [
      "(576, 8)\n",
      "(192, 8)\n"
     ]
    }
   ],
   "source": [
    "x_train_ss=ss.fit_transform(x_train)\n",
    "x_test_ss=ss.transform(x_test)\n",
    "print(x_train_ss.shape)\n",
    "print(x_test_ss.shape)"
   ]
  },
  {
   "cell_type": "code",
   "execution_count": 245,
   "id": "fd534548",
   "metadata": {},
   "outputs": [
    {
     "name": "stdout",
     "output_type": "stream",
     "text": [
      "(576, 8)\n",
      "(192, 8)\n"
     ]
    }
   ],
   "source": [
    "x_train_ss = pd.DataFrame(x_train_ss, columns=x_train.columns)\n",
    "x_test_ss = pd.DataFrame(x_test_ss, columns=x_test.columns)\n",
    "print(x_train_ss.shape)\n",
    "print(x_test_ss.shape)"
   ]
  },
  {
   "cell_type": "markdown",
   "id": "56454746",
   "metadata": {},
   "source": [
    "## Data Normalization"
   ]
  },
  {
   "cell_type": "code",
   "execution_count": 246,
   "id": "f5cc45d7",
   "metadata": {},
   "outputs": [],
   "source": [
    "ms=MinMaxScaler((0,1))"
   ]
  },
  {
   "cell_type": "code",
   "execution_count": 247,
   "id": "922f0e5e",
   "metadata": {},
   "outputs": [
    {
     "name": "stdout",
     "output_type": "stream",
     "text": [
      "(576, 8)\n",
      "(192, 8)\n"
     ]
    }
   ],
   "source": [
    "x_train_ms=ms.fit_transform(x_train)\n",
    "x_test_ms=ms.transform(x_test)\n",
    "print(x_train_ms.shape)\n",
    "print(x_test_ms.shape)"
   ]
  },
  {
   "cell_type": "code",
   "execution_count": 248,
   "id": "b4a47298",
   "metadata": {},
   "outputs": [
    {
     "name": "stdout",
     "output_type": "stream",
     "text": [
      "(576, 8)\n",
      "(192, 8)\n"
     ]
    }
   ],
   "source": [
    "x_train_ms=pd.DataFrame(x_train_ms,columns=x_train.columns)\n",
    "x_test_ms = pd.DataFrame(x_test_ms, columns=x_test.columns)\n",
    "print(x_train_ms.shape)\n",
    "print(x_test_ms.shape)"
   ]
  },
  {
   "cell_type": "markdown",
   "id": "51a512a0",
   "metadata": {},
   "source": [
    "## Advance Function Which Calculated All Models Scores"
   ]
  },
  {
   "cell_type": "code",
   "execution_count": 249,
   "id": "76d5e3a6",
   "metadata": {},
   "outputs": [],
   "source": [
    "from sklearn.metrics import *"
   ]
  },
  {
   "cell_type": "code",
   "execution_count": 253,
   "id": "8ea1e3b1",
   "metadata": {},
   "outputs": [],
   "source": [
    "def eval_classification(model,x_train,x_test,y_train,y_test,model_name):\n",
    "    model.fit(x_train,y_train)\n",
    "    y_pred=model.predict(x_test)\n",
    "    cm=confusion_matrix(y_test,y_pred)\n",
    "    cr=classification_report(y_test,y_pred)\n",
    "    train=model.score(x_train,y_train)\n",
    "    test=model.score(x_test,y_test)\n",
    "    pre1=precision_score(y_test,y_pred)\n",
    "    rec1=recall_score(y_test,y_pred)\n",
    "    res=pd.DataFrame({'Train Acc':train,'Test Acc':test,'PRECISON':pre1,'RECALL':rec1},index=[model_name])\n",
    "    print('Confusion matrix\\n',cm)\n",
    "    print('Classification report\\n',cr)\n",
    "    return res,y_pred"
   ]
  },
  {
   "cell_type": "markdown",
   "id": "8c312084",
   "metadata": {},
   "source": [
    "## Logistic Regression"
   ]
  },
  {
   "cell_type": "code",
   "execution_count": 254,
   "id": "c399dd04",
   "metadata": {},
   "outputs": [],
   "source": [
    "lg1=LogisticRegression()"
   ]
  },
  {
   "cell_type": "code",
   "execution_count": 255,
   "id": "60dbcb58",
   "metadata": {},
   "outputs": [
    {
     "name": "stdout",
     "output_type": "stream",
     "text": [
      "Confusion matrix\n",
      " [[101  22]\n",
      " [ 26  43]]\n",
      "Classification report\n",
      "               precision    recall  f1-score   support\n",
      "\n",
      "           0       0.80      0.82      0.81       123\n",
      "           1       0.66      0.62      0.64        69\n",
      "\n",
      "    accuracy                           0.75       192\n",
      "   macro avg       0.73      0.72      0.72       192\n",
      "weighted avg       0.75      0.75      0.75       192\n",
      "\n"
     ]
    },
    {
     "name": "stderr",
     "output_type": "stream",
     "text": [
      "C:\\Users\\LENOVO\\Documents\\New folder\\Lib\\site-packages\\sklearn\\linear_model\\_logistic.py:460: ConvergenceWarning: lbfgs failed to converge (status=1):\n",
      "STOP: TOTAL NO. of ITERATIONS REACHED LIMIT.\n",
      "\n",
      "Increase the number of iterations (max_iter) or scale the data as shown in:\n",
      "    https://scikit-learn.org/stable/modules/preprocessing.html\n",
      "Please also refer to the documentation for alternative solver options:\n",
      "    https://scikit-learn.org/stable/modules/linear_model.html#logistic-regression\n",
      "  n_iter_i = _check_optimize_result(\n"
     ]
    },
    {
     "data": {
      "text/html": [
       "<div>\n",
       "<style scoped>\n",
       "    .dataframe tbody tr th:only-of-type {\n",
       "        vertical-align: middle;\n",
       "    }\n",
       "\n",
       "    .dataframe tbody tr th {\n",
       "        vertical-align: top;\n",
       "    }\n",
       "\n",
       "    .dataframe thead th {\n",
       "        text-align: right;\n",
       "    }\n",
       "</style>\n",
       "<table border=\"1\" class=\"dataframe\">\n",
       "  <thead>\n",
       "    <tr style=\"text-align: right;\">\n",
       "      <th></th>\n",
       "      <th>Train Acc</th>\n",
       "      <th>Test Acc</th>\n",
       "      <th>PRECISON</th>\n",
       "      <th>RECALL</th>\n",
       "    </tr>\n",
       "  </thead>\n",
       "  <tbody>\n",
       "    <tr>\n",
       "      <th>Log_Reg</th>\n",
       "      <td>0.788194</td>\n",
       "      <td>0.75</td>\n",
       "      <td>0.661538</td>\n",
       "      <td>0.623188</td>\n",
       "    </tr>\n",
       "  </tbody>\n",
       "</table>\n",
       "</div>"
      ],
      "text/plain": [
       "         Train Acc  Test Acc  PRECISON    RECALL\n",
       "Log_Reg   0.788194      0.75  0.661538  0.623188"
      ]
     },
     "execution_count": 255,
     "metadata": {},
     "output_type": "execute_result"
    }
   ],
   "source": [
    "lg1_res,lg1_pred=eval_classification(lg1,x_train,x_test,y_train,y_test,'Log_Reg')\n",
    "lg1_res"
   ]
  },
  {
   "cell_type": "code",
   "execution_count": 256,
   "id": "5f88d521",
   "metadata": {},
   "outputs": [],
   "source": [
    "lg2=LogisticRegression()"
   ]
  },
  {
   "cell_type": "code",
   "execution_count": 261,
   "id": "9a262335",
   "metadata": {},
   "outputs": [
    {
     "name": "stdout",
     "output_type": "stream",
     "text": [
      "Confusion matrix\n",
      " [[101  22]\n",
      " [ 26  43]]\n",
      "Classification report\n",
      "               precision    recall  f1-score   support\n",
      "\n",
      "           0       0.80      0.82      0.81       123\n",
      "           1       0.66      0.62      0.64        69\n",
      "\n",
      "    accuracy                           0.75       192\n",
      "   macro avg       0.73      0.72      0.72       192\n",
      "weighted avg       0.75      0.75      0.75       192\n",
      "\n"
     ]
    },
    {
     "name": "stderr",
     "output_type": "stream",
     "text": [
      "C:\\Users\\LENOVO\\Documents\\New folder\\Lib\\site-packages\\sklearn\\linear_model\\_logistic.py:460: ConvergenceWarning: lbfgs failed to converge (status=1):\n",
      "STOP: TOTAL NO. of ITERATIONS REACHED LIMIT.\n",
      "\n",
      "Increase the number of iterations (max_iter) or scale the data as shown in:\n",
      "    https://scikit-learn.org/stable/modules/preprocessing.html\n",
      "Please also refer to the documentation for alternative solver options:\n",
      "    https://scikit-learn.org/stable/modules/linear_model.html#logistic-regression\n",
      "  n_iter_i = _check_optimize_result(\n"
     ]
    },
    {
     "data": {
      "text/html": [
       "<div>\n",
       "<style scoped>\n",
       "    .dataframe tbody tr th:only-of-type {\n",
       "        vertical-align: middle;\n",
       "    }\n",
       "\n",
       "    .dataframe tbody tr th {\n",
       "        vertical-align: top;\n",
       "    }\n",
       "\n",
       "    .dataframe thead th {\n",
       "        text-align: right;\n",
       "    }\n",
       "</style>\n",
       "<table border=\"1\" class=\"dataframe\">\n",
       "  <thead>\n",
       "    <tr style=\"text-align: right;\">\n",
       "      <th></th>\n",
       "      <th>Train Acc</th>\n",
       "      <th>Test Acc</th>\n",
       "      <th>PRECISON</th>\n",
       "      <th>RECALL</th>\n",
       "    </tr>\n",
       "  </thead>\n",
       "  <tbody>\n",
       "    <tr>\n",
       "      <th>Log_Reg[ss]</th>\n",
       "      <td>0.788194</td>\n",
       "      <td>0.75</td>\n",
       "      <td>0.661538</td>\n",
       "      <td>0.623188</td>\n",
       "    </tr>\n",
       "  </tbody>\n",
       "</table>\n",
       "</div>"
      ],
      "text/plain": [
       "             Train Acc  Test Acc  PRECISON    RECALL\n",
       "Log_Reg[ss]   0.788194      0.75  0.661538  0.623188"
      ]
     },
     "execution_count": 261,
     "metadata": {},
     "output_type": "execute_result"
    }
   ],
   "source": [
    "lg2_res,lg2_pred=eval_classification(lg2,x_train,x_test,y_train,y_test,\"Log_Reg[ss]\")\n",
    "lg2_res"
   ]
  },
  {
   "cell_type": "code",
   "execution_count": 259,
   "id": "0fe20f45",
   "metadata": {},
   "outputs": [],
   "source": [
    "lg3=LogisticRegression()"
   ]
  },
  {
   "cell_type": "code",
   "execution_count": 262,
   "id": "3b7c8198",
   "metadata": {},
   "outputs": [
    {
     "name": "stdout",
     "output_type": "stream",
     "text": [
      "Confusion matrix\n",
      " [[101  22]\n",
      " [ 26  43]]\n",
      "Classification report\n",
      "               precision    recall  f1-score   support\n",
      "\n",
      "           0       0.80      0.82      0.81       123\n",
      "           1       0.66      0.62      0.64        69\n",
      "\n",
      "    accuracy                           0.75       192\n",
      "   macro avg       0.73      0.72      0.72       192\n",
      "weighted avg       0.75      0.75      0.75       192\n",
      "\n"
     ]
    },
    {
     "name": "stderr",
     "output_type": "stream",
     "text": [
      "C:\\Users\\LENOVO\\Documents\\New folder\\Lib\\site-packages\\sklearn\\linear_model\\_logistic.py:460: ConvergenceWarning: lbfgs failed to converge (status=1):\n",
      "STOP: TOTAL NO. of ITERATIONS REACHED LIMIT.\n",
      "\n",
      "Increase the number of iterations (max_iter) or scale the data as shown in:\n",
      "    https://scikit-learn.org/stable/modules/preprocessing.html\n",
      "Please also refer to the documentation for alternative solver options:\n",
      "    https://scikit-learn.org/stable/modules/linear_model.html#logistic-regression\n",
      "  n_iter_i = _check_optimize_result(\n"
     ]
    },
    {
     "data": {
      "text/html": [
       "<div>\n",
       "<style scoped>\n",
       "    .dataframe tbody tr th:only-of-type {\n",
       "        vertical-align: middle;\n",
       "    }\n",
       "\n",
       "    .dataframe tbody tr th {\n",
       "        vertical-align: top;\n",
       "    }\n",
       "\n",
       "    .dataframe thead th {\n",
       "        text-align: right;\n",
       "    }\n",
       "</style>\n",
       "<table border=\"1\" class=\"dataframe\">\n",
       "  <thead>\n",
       "    <tr style=\"text-align: right;\">\n",
       "      <th></th>\n",
       "      <th>Train Acc</th>\n",
       "      <th>Test Acc</th>\n",
       "      <th>PRECISON</th>\n",
       "      <th>RECALL</th>\n",
       "    </tr>\n",
       "  </thead>\n",
       "  <tbody>\n",
       "    <tr>\n",
       "      <th>Log_Reg[ms]</th>\n",
       "      <td>0.788194</td>\n",
       "      <td>0.75</td>\n",
       "      <td>0.661538</td>\n",
       "      <td>0.623188</td>\n",
       "    </tr>\n",
       "  </tbody>\n",
       "</table>\n",
       "</div>"
      ],
      "text/plain": [
       "             Train Acc  Test Acc  PRECISON    RECALL\n",
       "Log_Reg[ms]   0.788194      0.75  0.661538  0.623188"
      ]
     },
     "execution_count": 262,
     "metadata": {},
     "output_type": "execute_result"
    }
   ],
   "source": [
    "lg3_res,lg3_pred=eval_classification(lg3,x_train,x_test,y_train,y_test,\"Log_Reg[ms]\")\n",
    "lg3_res"
   ]
  },
  {
   "cell_type": "markdown",
   "id": "c462e2d9",
   "metadata": {},
   "source": [
    "## Linear Regression"
   ]
  },
  {
   "cell_type": "code",
   "execution_count": 263,
   "id": "52bd766f",
   "metadata": {},
   "outputs": [],
   "source": [
    "line=LinearRegression()"
   ]
  },
  {
   "cell_type": "code",
   "execution_count": 264,
   "id": "03177980",
   "metadata": {},
   "outputs": [
    {
     "data": {
      "text/html": [
       "<style>#sk-container-id-1 {color: black;}#sk-container-id-1 pre{padding: 0;}#sk-container-id-1 div.sk-toggleable {background-color: white;}#sk-container-id-1 label.sk-toggleable__label {cursor: pointer;display: block;width: 100%;margin-bottom: 0;padding: 0.3em;box-sizing: border-box;text-align: center;}#sk-container-id-1 label.sk-toggleable__label-arrow:before {content: \"▸\";float: left;margin-right: 0.25em;color: #696969;}#sk-container-id-1 label.sk-toggleable__label-arrow:hover:before {color: black;}#sk-container-id-1 div.sk-estimator:hover label.sk-toggleable__label-arrow:before {color: black;}#sk-container-id-1 div.sk-toggleable__content {max-height: 0;max-width: 0;overflow: hidden;text-align: left;background-color: #f0f8ff;}#sk-container-id-1 div.sk-toggleable__content pre {margin: 0.2em;color: black;border-radius: 0.25em;background-color: #f0f8ff;}#sk-container-id-1 input.sk-toggleable__control:checked~div.sk-toggleable__content {max-height: 200px;max-width: 100%;overflow: auto;}#sk-container-id-1 input.sk-toggleable__control:checked~label.sk-toggleable__label-arrow:before {content: \"▾\";}#sk-container-id-1 div.sk-estimator input.sk-toggleable__control:checked~label.sk-toggleable__label {background-color: #d4ebff;}#sk-container-id-1 div.sk-label input.sk-toggleable__control:checked~label.sk-toggleable__label {background-color: #d4ebff;}#sk-container-id-1 input.sk-hidden--visually {border: 0;clip: rect(1px 1px 1px 1px);clip: rect(1px, 1px, 1px, 1px);height: 1px;margin: -1px;overflow: hidden;padding: 0;position: absolute;width: 1px;}#sk-container-id-1 div.sk-estimator {font-family: monospace;background-color: #f0f8ff;border: 1px dotted black;border-radius: 0.25em;box-sizing: border-box;margin-bottom: 0.5em;}#sk-container-id-1 div.sk-estimator:hover {background-color: #d4ebff;}#sk-container-id-1 div.sk-parallel-item::after {content: \"\";width: 100%;border-bottom: 1px solid gray;flex-grow: 1;}#sk-container-id-1 div.sk-label:hover label.sk-toggleable__label {background-color: #d4ebff;}#sk-container-id-1 div.sk-serial::before {content: \"\";position: absolute;border-left: 1px solid gray;box-sizing: border-box;top: 0;bottom: 0;left: 50%;z-index: 0;}#sk-container-id-1 div.sk-serial {display: flex;flex-direction: column;align-items: center;background-color: white;padding-right: 0.2em;padding-left: 0.2em;position: relative;}#sk-container-id-1 div.sk-item {position: relative;z-index: 1;}#sk-container-id-1 div.sk-parallel {display: flex;align-items: stretch;justify-content: center;background-color: white;position: relative;}#sk-container-id-1 div.sk-item::before, #sk-container-id-1 div.sk-parallel-item::before {content: \"\";position: absolute;border-left: 1px solid gray;box-sizing: border-box;top: 0;bottom: 0;left: 50%;z-index: -1;}#sk-container-id-1 div.sk-parallel-item {display: flex;flex-direction: column;z-index: 1;position: relative;background-color: white;}#sk-container-id-1 div.sk-parallel-item:first-child::after {align-self: flex-end;width: 50%;}#sk-container-id-1 div.sk-parallel-item:last-child::after {align-self: flex-start;width: 50%;}#sk-container-id-1 div.sk-parallel-item:only-child::after {width: 0;}#sk-container-id-1 div.sk-dashed-wrapped {border: 1px dashed gray;margin: 0 0.4em 0.5em 0.4em;box-sizing: border-box;padding-bottom: 0.4em;background-color: white;}#sk-container-id-1 div.sk-label label {font-family: monospace;font-weight: bold;display: inline-block;line-height: 1.2em;}#sk-container-id-1 div.sk-label-container {text-align: center;}#sk-container-id-1 div.sk-container {/* jupyter's `normalize.less` sets `[hidden] { display: none; }` but bootstrap.min.css set `[hidden] { display: none !important; }` so we also need the `!important` here to be able to override the default hidden behavior on the sphinx rendered scikit-learn.org. See: https://github.com/scikit-learn/scikit-learn/issues/21755 */display: inline-block !important;position: relative;}#sk-container-id-1 div.sk-text-repr-fallback {display: none;}</style><div id=\"sk-container-id-1\" class=\"sk-top-container\"><div class=\"sk-text-repr-fallback\"><pre>LinearRegression()</pre><b>In a Jupyter environment, please rerun this cell to show the HTML representation or trust the notebook. <br />On GitHub, the HTML representation is unable to render, please try loading this page with nbviewer.org.</b></div><div class=\"sk-container\" hidden><div class=\"sk-item\"><div class=\"sk-estimator sk-toggleable\"><input class=\"sk-toggleable__control sk-hidden--visually\" id=\"sk-estimator-id-1\" type=\"checkbox\" checked><label for=\"sk-estimator-id-1\" class=\"sk-toggleable__label sk-toggleable__label-arrow\">LinearRegression</label><div class=\"sk-toggleable__content\"><pre>LinearRegression()</pre></div></div></div></div></div>"
      ],
      "text/plain": [
       "LinearRegression()"
      ]
     },
     "execution_count": 264,
     "metadata": {},
     "output_type": "execute_result"
    }
   ],
   "source": [
    "line.fit(x_train,y_train)"
   ]
  },
  {
   "cell_type": "code",
   "execution_count": 265,
   "id": "04096529",
   "metadata": {},
   "outputs": [
    {
     "data": {
      "text/plain": [
       "array([ 0.00918813,  0.00680941, -0.00191892,  0.00132707, -0.00027515,\n",
       "        0.01554004,  0.08133303,  0.00603129])"
      ]
     },
     "execution_count": 265,
     "metadata": {},
     "output_type": "execute_result"
    }
   ],
   "source": [
    "line.coef_"
   ]
  },
  {
   "cell_type": "code",
   "execution_count": 266,
   "id": "73003b9b",
   "metadata": {},
   "outputs": [
    {
     "data": {
      "text/plain": [
       "-1.1260402308681428"
      ]
     },
     "execution_count": 266,
     "metadata": {},
     "output_type": "execute_result"
    }
   ],
   "source": [
    "line.intercept_"
   ]
  },
  {
   "cell_type": "code",
   "execution_count": 267,
   "id": "bdab342c",
   "metadata": {},
   "outputs": [],
   "source": [
    "pred_train=line.predict(x_train)"
   ]
  },
  {
   "cell_type": "code",
   "execution_count": 268,
   "id": "aa39acaf",
   "metadata": {},
   "outputs": [
    {
     "data": {
      "text/plain": [
       "array([ 6.96779248e-01,  2.79311805e-01,  2.00928469e-02, -3.22433284e-02,\n",
       "        1.17191394e-01,  2.86861198e-02,  2.84160780e-01,  6.69529296e-01,\n",
       "        1.37209211e-01,  1.47402089e-01,  3.59609904e-01,  3.13390300e-01,\n",
       "        6.09343813e-01,  7.48794384e-02,  1.02727382e-01,  3.21300512e-01,\n",
       "        9.03059523e-01,  6.26819064e-01,  3.21626311e-01,  2.36825004e-01,\n",
       "        2.01196035e-01,  1.50139181e-01,  6.69036590e-01,  1.01419936e-01,\n",
       "        6.87796524e-01,  3.21363418e-01,  3.90825802e-01,  8.57410365e-01,\n",
       "        6.12837604e-01,  1.03581571e-01,  6.06160694e-02,  2.09605633e-01,\n",
       "        2.60801451e-02,  5.25017174e-01,  2.27963405e-01,  3.32490991e-01,\n",
       "        3.44775241e-01,  2.45221183e-01,  1.09843181e-01, -5.19234603e-02,\n",
       "        2.01021972e-01,  4.81473179e-01,  3.50715785e-01,  4.41340441e-01,\n",
       "        8.02802111e-02,  3.26995747e-01,  3.73303601e-01,  4.88395314e-01,\n",
       "        1.44029996e-01, -4.99280990e-06,  5.05531423e-01,  1.28941213e-01,\n",
       "        2.18636804e-01,  3.48704187e-01,  7.60820784e-01,  9.22141857e-02,\n",
       "        3.73895734e-01,  2.63983908e-01,  1.78536814e-01,  1.39495854e-01,\n",
       "        6.16813714e-01, -1.68393256e-02,  2.44146035e-01,  6.52929157e-01,\n",
       "        1.58677419e-01,  4.27739292e-01,  8.26953223e-02,  1.70487710e-02,\n",
       "        5.20029513e-01,  4.83714036e-01,  1.49575280e-01, -1.04155879e-01,\n",
       "        2.17895391e-01,  9.07229479e-02,  3.77994285e-01,  2.76449260e-01,\n",
       "       -2.92306164e-02,  3.28932903e-01,  7.92311975e-02,  2.22406242e-01,\n",
       "        6.75489898e-01,  6.29034366e-01,  3.80300194e-01,  1.81000265e-01,\n",
       "        6.80718185e-02,  6.34497042e-01,  1.55728499e-01,  1.87138334e-01,\n",
       "        2.86133207e-01,  7.40535210e-01,  8.29212691e-01,  9.73317460e-01,\n",
       "        1.60402095e-01,  3.42198955e-01,  8.38563069e-01,  6.84480659e-01,\n",
       "       -5.80520923e-02,  7.64325730e-01,  1.61475365e-01,  1.89551608e-01,\n",
       "        5.45798654e-01,  2.83635172e-01,  4.63163818e-01,  1.63189069e-01,\n",
       "        2.03410142e-01,  8.01840352e-01,  2.01753037e-01,  3.44125346e-01,\n",
       "        2.87268654e-01,  5.83047507e-01,  7.45609971e-01, -7.34393142e-02,\n",
       "        3.81465872e-02, -2.38492467e-01,  2.49025281e-01,  3.62973759e-01,\n",
       "        6.68968409e-02,  4.78394715e-01,  1.08892369e-01,  1.02480538e+00,\n",
       "        7.72253170e-01, -1.42694432e-01,  3.84970272e-01,  1.14384960e-01,\n",
       "        7.36455580e-01,  1.13842717e-01, -5.97559697e-02,  6.57354372e-02,\n",
       "        4.61400395e-01,  3.91858893e-01,  9.35911592e-01,  2.58795681e-01,\n",
       "        2.50642034e-01,  4.40970742e-01,  2.14779265e-01,  2.54615456e-01,\n",
       "        5.15444936e-01,  1.33803410e-01,  2.83215550e-01,  6.55899993e-02,\n",
       "       -1.07278981e-01,  3.74459532e-01,  2.36830712e-01,  6.45132222e-02,\n",
       "        8.97773401e-01,  6.45684579e-01,  1.46339947e-01,  1.08729724e-01,\n",
       "        4.39256588e-01,  1.39000460e-01,  3.35000179e-01,  6.70904621e-01,\n",
       "        7.11479247e-01,  1.04081245e+00, -1.23940757e-01,  1.00837084e-01,\n",
       "        5.81465635e-02,  3.67545264e-01,  2.45981571e-01,  4.19840655e-01,\n",
       "        9.15155503e-01,  8.19542637e-01,  3.32235579e-01,  1.23523625e-01,\n",
       "        4.68519447e-01,  3.44343145e-01,  2.56766764e-01,  4.71092661e-01,\n",
       "        5.26444589e-01,  7.49525172e-01,  5.74548317e-01,  3.94929199e-01,\n",
       "        1.39218112e-02,  7.20095576e-02,  1.77898908e-01,  5.85013618e-02,\n",
       "        4.34249424e-01,  4.74310448e-01,  4.85601892e-01,  3.22761485e-01,\n",
       "        6.49891147e-01,  4.36558957e-01,  6.50536700e-01,  5.16019954e-02,\n",
       "        5.48908191e-01,  4.83537497e-01,  2.73145453e-01,  4.19769931e-01,\n",
       "        4.25276107e-01,  7.81532253e-01,  1.09195284e+00,  7.38950502e-01,\n",
       "        3.70411144e-01,  2.12941651e-01,  5.78429733e-01,  3.65561966e-01,\n",
       "       -1.41982944e-01,  2.69356741e-01,  3.48813923e-01, -5.11291312e-02,\n",
       "        1.98528654e-01,  7.27503660e-01,  6.32856367e-01,  1.02334398e+00,\n",
       "        4.36963982e-01,  7.75735623e-01,  6.58152610e-01,  4.94199278e-01,\n",
       "        3.79299383e-01,  2.11467520e-01, -4.27221508e-03,  1.85301449e-01,\n",
       "        2.08740798e-01,  2.83418411e-01,  3.82047691e-01,  8.26892910e-01,\n",
       "        4.31442432e-01,  2.83538705e-01,  3.19014459e-01,  3.14823071e-02,\n",
       "        3.07374196e-01,  4.13366423e-01,  2.08702321e-01,  8.50675646e-01,\n",
       "        6.63084706e-01, -1.66958588e-02,  8.96813567e-01,  3.93170987e-01,\n",
       "        2.22507235e-01,  4.32805043e-01,  2.21023365e-01,  1.35632618e-01,\n",
       "        2.19425635e-01,  2.64366879e-01,  9.18380492e-01,  3.86932978e-01,\n",
       "        3.72540427e-01,  7.70870750e-02,  1.02586773e-01,  2.24057371e-01,\n",
       "        6.88289489e-01,  1.11494366e+00,  4.71363929e-01,  3.69808433e-01,\n",
       "        7.01742624e-02, -5.70721391e-02,  4.68912665e-01,  4.23293039e-02,\n",
       "        4.33726919e-01,  2.18340601e-01,  8.64500441e-01, -1.88257594e-01,\n",
       "        4.16373399e-01,  3.83367865e-01,  2.64329419e-01,  5.40947852e-01,\n",
       "        2.14627128e-01,  5.85588188e-01,  2.65732976e-01,  2.60821407e-01,\n",
       "        5.63182139e-01,  1.04123086e+00,  7.34395861e-02,  4.99368311e-02,\n",
       "        6.47071657e-01,  8.13214818e-01,  2.03376100e-01,  2.80588117e-01,\n",
       "       -4.95142184e-02,  4.44410928e-01,  1.64071039e-01,  3.14227702e-01,\n",
       "        4.80926491e-01, -2.98137871e-02, -2.73260766e-01,  2.97949806e-01,\n",
       "        1.85033426e-01,  7.03414107e-01,  9.57961882e-01,  5.83880711e-01,\n",
       "        3.50293428e-01,  4.71084613e-01,  4.58886047e-01,  3.69634892e-01,\n",
       "        5.90987362e-01,  1.26714364e-01, -5.58906139e-02,  7.41611637e-02,\n",
       "        1.02659318e-01, -7.69103179e-02,  3.26857638e-01,  5.83393262e-01,\n",
       "        1.52608768e-01,  7.39008695e-01,  6.61001998e-01,  7.49836000e-02,\n",
       "        4.83973306e-01,  5.53867728e-01,  3.15047735e-02,  7.08077376e-01,\n",
       "       -9.44488012e-02,  6.26195120e-01,  4.67916260e-01, -1.02862059e-01,\n",
       "        4.76851358e-01,  3.98102082e-01,  3.88876896e-01,  1.06715616e-01,\n",
       "        8.27409105e-01,  1.62134235e-01,  4.34683052e-01,  7.69631649e-01,\n",
       "        7.43603796e-01,  2.66801365e-01,  6.57165054e-01,  8.31917530e-01,\n",
       "        5.12491285e-01,  2.74701566e-01,  1.15132021e-01,  8.24253235e-02,\n",
       "        5.01731406e-01,  2.18879441e-01,  2.91779607e-01,  9.94367939e-02,\n",
       "        2.67753428e-01,  1.80308130e-01,  3.26717713e-01,  4.08793694e-01,\n",
       "        7.31444934e-01,  1.91822058e-01,  4.82509760e-02,  3.04407759e-01,\n",
       "        6.32217841e-01,  1.65699113e-01,  3.96852759e-01, -1.09438125e-01,\n",
       "       -1.87648113e-02,  2.60914238e-01, -4.97980134e-02,  8.47288856e-01,\n",
       "        1.83005604e-01,  6.50664168e-02,  4.43839155e-01,  7.57354634e-01,\n",
       "       -4.57957227e-02,  6.56018195e-02,  8.15802128e-01,  1.92417351e-01,\n",
       "        5.52203944e-01,  1.49631195e-01,  8.96291009e-02,  5.11729834e-01,\n",
       "       -6.85761953e-02,  5.72114012e-01,  2.64439714e-01,  1.50717524e-01,\n",
       "        2.14206291e-01,  4.06793951e-01,  4.35849867e-01,  2.52603499e-01,\n",
       "        6.64189359e-01,  1.36526435e-01,  5.14622034e-02,  2.97927833e-01,\n",
       "       -3.21098932e-03,  2.26011832e-01,  6.69970213e-01,  5.93197578e-01,\n",
       "       -2.01863785e-02,  7.39189924e-02,  3.48285177e-01,  8.40707472e-01,\n",
       "        5.23056179e-01, -2.54597168e-02,  3.75672587e-01,  1.15101733e-01,\n",
       "        6.49324200e-02,  4.30630128e-02,  4.92962139e-01,  1.54271230e-01,\n",
       "        1.84962764e-01, -7.49026107e-02,  1.78291671e-01, -1.57708569e-01,\n",
       "        4.41348419e-01,  5.40185107e-01,  3.38887378e-01,  3.17663338e-01,\n",
       "        4.93244547e-01,  1.00976784e-02,  1.93879669e-02, -2.61742801e-02,\n",
       "        4.33959842e-01,  3.18528212e-01,  8.52828274e-01,  8.19490755e-01,\n",
       "        2.03664184e-01,  3.64602445e-01,  8.38590693e-01,  4.44816857e-01,\n",
       "        5.44374084e-01,  9.85033671e-02,  2.11331042e-02,  1.69307848e-01,\n",
       "        1.74716441e-02, -1.34604064e-01,  7.79431861e-01,  2.34674368e-01,\n",
       "        3.83957624e-01,  1.52781355e-01,  6.97904797e-01,  2.72782637e-01,\n",
       "        2.60019422e-01,  3.48478693e-01,  6.19979488e-01,  4.00284314e-01,\n",
       "       -7.06607777e-02,  1.47961936e-01,  1.96634782e-02,  5.30594775e-02,\n",
       "        3.04265159e-01,  3.41776201e-01,  9.45032406e-02,  1.09388330e-01,\n",
       "        5.08782901e-01,  4.18960919e-01,  6.10178104e-01,  5.87659101e-01,\n",
       "        2.92068997e-01,  2.44771311e-01,  4.14151252e-01,  2.26574141e-01,\n",
       "        3.29749558e-01,  9.73726180e-01,  3.11630422e-01,  1.38471257e-01,\n",
       "        4.05714600e-01,  1.98826454e-01,  7.00857211e-01,  3.68023361e-01,\n",
       "        5.07826064e-01,  5.33375811e-01,  1.49891421e-01, -5.07386912e-04,\n",
       "        3.19901673e-01,  3.21758164e-01,  2.08348992e-02,  5.99781389e-01,\n",
       "        1.07345436e+00,  8.33546825e-02,  3.65686859e-01,  2.44297879e-01,\n",
       "        3.53512517e-01,  7.37252144e-01,  5.73160893e-01,  1.62042268e-01,\n",
       "        7.79695253e-01,  1.10759821e+00,  1.02292998e-01,  1.22096188e-01,\n",
       "        3.34889798e-01,  5.53793709e-01, -1.15611227e-01, -7.10087424e-02,\n",
       "        1.82233267e-01, -4.33473742e-02, -6.87772660e-02,  3.68361805e-01,\n",
       "        6.03661051e-01,  9.91612224e-01,  8.14133402e-01, -2.62670173e-02,\n",
       "       -1.63602218e-01,  8.27232074e-01,  5.01632485e-01,  8.70715854e-01,\n",
       "        3.37923650e-01, -2.23958435e-01,  3.77004755e-01,  7.58031191e-01,\n",
       "        3.13096161e-01,  3.33081997e-01, -2.00150088e-01,  3.94041997e-01,\n",
       "        6.45433496e-01,  2.14762748e-02,  7.25538487e-01,  2.16932546e-01,\n",
       "        3.15861121e-01,  4.08903427e-01,  3.10988726e-01,  1.95085002e-03,\n",
       "        3.57397755e-01,  6.23286653e-01,  2.52754966e-01, -2.00805969e-01,\n",
       "        8.66075236e-01,  2.13396116e-01,  3.86224541e-01,  4.98851119e-01,\n",
       "        3.81117265e-01,  2.65477572e-01,  4.87124607e-01,  2.17408706e-01,\n",
       "        2.68139419e-01,  2.90939617e-02,  1.97339826e-01, -5.72554511e-03,\n",
       "        2.28378277e-01,  9.00538133e-01,  8.75861236e-02,  1.33702275e-01,\n",
       "        4.21615393e-01,  5.57958154e-02,  7.68905799e-01,  2.50590224e-01,\n",
       "        2.91166045e-01,  3.04610466e-01,  9.05543653e-01,  7.74557399e-02,\n",
       "        5.76852967e-01,  9.76348588e-02,  7.98433428e-01,  2.40182899e-01,\n",
       "        6.49400683e-02,  4.73673035e-01, -5.21794446e-02,  4.66012941e-01,\n",
       "        9.80883189e-01,  4.60282162e-01,  6.70371301e-01,  4.38270700e-01,\n",
       "        2.89167240e-01,  3.51595187e-01,  2.13987955e-01,  1.30684292e-01,\n",
       "        2.03268282e-01,  3.86526032e-01,  5.23898509e-01,  4.71974866e-01,\n",
       "        8.27832634e-01,  2.13926541e-01,  7.65790630e-01,  1.90410122e-01,\n",
       "        5.17341010e-01, -1.00705704e-01,  3.65776163e-01,  2.25051613e-01,\n",
       "        5.98393998e-01,  5.10843715e-01,  1.79188988e-01,  4.78457680e-01,\n",
       "        1.01306851e-01,  2.81931400e-01,  1.54744966e-01,  3.69609667e-01,\n",
       "        3.28651782e-01,  1.03335965e+00,  6.16701411e-01,  6.97806845e-01,\n",
       "        5.34082962e-01,  6.14914412e-02,  2.37887913e-01,  7.84247825e-01,\n",
       "        3.86096326e-01,  3.26011910e-01, -1.31982822e-01,  3.02852165e-01,\n",
       "        6.75471393e-01,  4.11220316e-01,  3.12030890e-01,  3.86209641e-01,\n",
       "       -1.16646692e-01,  5.59482433e-01,  5.68532489e-01,  6.06667400e-02])"
      ]
     },
     "execution_count": 268,
     "metadata": {},
     "output_type": "execute_result"
    }
   ],
   "source": [
    "pred_train"
   ]
  },
  {
   "cell_type": "code",
   "execution_count": 272,
   "id": "733290df",
   "metadata": {},
   "outputs": [],
   "source": [
    "pred_test=line.predict(x_test)"
   ]
  },
  {
   "cell_type": "code",
   "execution_count": 273,
   "id": "cdf1966d",
   "metadata": {},
   "outputs": [
    {
     "data": {
      "text/plain": [
       "array([ 2.99307425e-01,  2.38618302e-01,  1.45212299e-01,  2.01657878e-01,\n",
       "        4.97075010e-01,  4.26414801e-01, -2.46541014e-01,  4.21060885e-01,\n",
       "        5.62065895e-01,  7.26801456e-01,  2.94870006e-01,  9.14295177e-01,\n",
       "        4.18996317e-01,  2.99635101e-01,  4.66943178e-02,  4.10111910e-01,\n",
       "        1.38107563e-01,  3.63102433e-02,  7.16507829e-01,  5.43091990e-01,\n",
       "        2.57707930e-01,  5.21485028e-02,  4.91417339e-01,  9.20242553e-02,\n",
       "        5.17886805e-01,  8.93246636e-01,  1.51717686e-01, -9.06183602e-02,\n",
       "        2.92745301e-01,  1.09827025e-01,  8.73159790e-01,  8.22021271e-01,\n",
       "        7.72929201e-01,  6.46219061e-01,  5.38126734e-01,  6.43208507e-01,\n",
       "        1.11232737e+00,  2.82519963e-01,  4.79463850e-01,  5.00063241e-01,\n",
       "        1.97045803e-02,  5.65661259e-01,  5.10044907e-01,  3.37409875e-01,\n",
       "       -1.05442914e-01,  5.41090413e-01,  5.61150591e-01,  2.42830379e-01,\n",
       "        3.78965884e-01,  1.03855383e+00, -3.05966943e-02,  6.28101382e-01,\n",
       "        7.49750539e-01,  3.24511698e-01,  1.53200276e-01, -7.62008864e-02,\n",
       "        7.43492894e-01, -2.56336388e-02,  4.16672772e-01,  7.32730237e-01,\n",
       "        6.91447402e-01,  3.78569329e-01,  2.68186947e-01,  1.99606061e-01,\n",
       "        4.66433269e-02,  6.11925098e-01, -4.56060352e-02,  6.71488048e-01,\n",
       "       -4.54521842e-02,  7.30723789e-01,  6.45624519e-01,  1.38575023e-02,\n",
       "        2.10103067e-01,  1.27053999e-01,  9.87213008e-02,  4.84583014e-01,\n",
       "        2.12822813e-01,  1.57083174e-01,  1.84840911e-01,  2.86115417e-01,\n",
       "        6.37148034e-01,  1.87132499e-01, -1.23881800e-02,  4.44836958e-01,\n",
       "        3.00074888e-01,  8.30691485e-01,  8.75977907e-01,  3.50339983e-01,\n",
       "        1.39643208e-01,  5.28249450e-02,  2.19187348e-02,  2.55767395e-01,\n",
       "       -8.15341754e-02,  3.58835773e-01,  4.88193356e-01,  6.11090399e-01,\n",
       "        3.69866479e-01,  1.19567690e-01,  6.22583335e-01,  1.86038417e-02,\n",
       "        7.20180159e-01, -9.09588937e-04,  6.75987142e-01,  5.29034793e-01,\n",
       "        6.22600707e-01,  2.87296531e-01,  3.47385559e-01,  7.21844559e-01,\n",
       "        1.10200103e-01,  4.68630463e-01,  8.51678790e-02,  4.52317262e-01,\n",
       "        2.04071208e-01,  7.35786019e-01,  2.27327893e-01,  3.71248766e-01,\n",
       "        7.22770126e-01,  2.64171122e-01,  1.47806235e-02,  3.67260275e-01,\n",
       "        2.84578892e-02,  3.26603378e-01,  2.98472984e-01,  2.86421297e-02,\n",
       "        3.71205395e-01,  4.27071671e-01,  3.32338729e-01,  8.15656950e-01,\n",
       "        8.55326044e-01,  7.48386650e-01,  7.02645538e-01,  7.95741597e-01,\n",
       "        6.91732414e-02,  4.64840600e-01,  7.97698939e-01,  1.37487592e-01,\n",
       "        2.16787464e-01,  8.31639333e-01,  7.42809102e-01, -2.78495832e-01,\n",
       "        1.07365266e-01, -5.63144495e-02,  3.03369840e-01,  4.35750522e-01,\n",
       "        1.34965963e-01,  2.77774788e-01,  1.20717189e-01, -2.06584398e-01,\n",
       "        4.29041763e-01,  7.25983233e-01,  8.83980984e-02,  4.33429999e-01,\n",
       "        3.40996632e-01,  1.97760247e-01, -3.04213897e-03,  4.29474920e-01,\n",
       "        3.75640977e-01,  6.49477843e-01,  6.50077148e-01,  1.95971699e-01,\n",
       "        3.68071526e-01,  6.32127504e-01,  2.45672326e-01, -2.11054043e-01,\n",
       "        1.41072562e-01,  8.32406582e-01, -3.78303720e-02,  3.77416840e-01,\n",
       "        7.65339954e-01,  5.09192192e-01,  6.11252281e-01,  1.99064703e-01,\n",
       "        3.78184236e-01,  5.20658313e-01,  5.86317233e-01,  7.18556127e-02,\n",
       "        3.35777267e-01,  3.02201933e-01,  2.46882663e-01,  3.63754293e-01,\n",
       "        5.27064324e-01,  5.58268809e-01,  3.74864813e-01,  7.07855726e-01,\n",
       "        5.72693462e-01,  9.51682345e-02, -7.42591061e-02,  1.11818642e-01,\n",
       "        8.54096852e-01,  4.11742745e-01,  1.36900419e-02,  8.79030995e-02])"
      ]
     },
     "execution_count": 273,
     "metadata": {},
     "output_type": "execute_result"
    }
   ],
   "source": [
    "pred_test"
   ]
  },
  {
   "cell_type": "code",
   "execution_count": 276,
   "id": "ba05e520",
   "metadata": {},
   "outputs": [],
   "source": [
    "mse_train=np.mean((pred_train-y_train)**(2))"
   ]
  },
  {
   "cell_type": "code",
   "execution_count": 277,
   "id": "133971ad",
   "metadata": {},
   "outputs": [],
   "source": [
    "mse_test=np.mean((pred_test-y_test)**(2))"
   ]
  },
  {
   "cell_type": "code",
   "execution_count": 278,
   "id": "9025480a",
   "metadata": {},
   "outputs": [
    {
     "name": "stdout",
     "output_type": "stream",
     "text": [
      "mse_train 0.1489150097128766\n",
      "mse_test 0.17675163888045164\n"
     ]
    }
   ],
   "source": [
    "print(\"mse_train\",mse_train)\n",
    "print(\"mse_test\",mse_test)"
   ]
  },
  {
   "cell_type": "code",
   "execution_count": 279,
   "id": "341f54a7",
   "metadata": {},
   "outputs": [],
   "source": [
    "rmse_train=np.sqrt(np.mean((pred_train-y_train)**(2)))"
   ]
  },
  {
   "cell_type": "code",
   "execution_count": 280,
   "id": "2a1c01b3",
   "metadata": {},
   "outputs": [],
   "source": [
    "rmse_test=np.sqrt(np.mean((pred_test-y_test)**(2)))"
   ]
  },
  {
   "cell_type": "code",
   "execution_count": 281,
   "id": "45226d69",
   "metadata": {},
   "outputs": [
    {
     "name": "stdout",
     "output_type": "stream",
     "text": [
      "rmse_train 0.38589507604124285\n",
      "rmse_test 0.42041840930250857\n"
     ]
    }
   ],
   "source": [
    "print(\"rmse_train\",rmse_train)\n",
    "print(\"rmse_test\",rmse_test)"
   ]
  },
  {
   "cell_type": "code",
   "execution_count": 282,
   "id": "6b7303bc",
   "metadata": {},
   "outputs": [],
   "source": [
    "mae_train=np.mean(abs(pred_train-y_train))"
   ]
  },
  {
   "cell_type": "code",
   "execution_count": 283,
   "id": "e84be338",
   "metadata": {},
   "outputs": [],
   "source": [
    "mae_test=np.mean(abs(pred_test-y_test))"
   ]
  },
  {
   "cell_type": "code",
   "execution_count": 284,
   "id": "8f415aef",
   "metadata": {},
   "outputs": [
    {
     "name": "stdout",
     "output_type": "stream",
     "text": [
      "mae_train 0.31525011931496844\n",
      "mae_test 0.3464119874138678\n"
     ]
    }
   ],
   "source": [
    "print(\"mae_train\",mae_train)\n",
    "print(\"mae_test\",mae_test)"
   ]
  },
  {
   "cell_type": "code",
   "execution_count": 285,
   "id": "e281ae57",
   "metadata": {},
   "outputs": [],
   "source": [
    "mape_train=np.mean(abs((pred_train-y_train)/y_train))"
   ]
  },
  {
   "cell_type": "code",
   "execution_count": 286,
   "id": "35bb5a77",
   "metadata": {},
   "outputs": [],
   "source": [
    "mape_test=np.mean(abs((pred_test-y_test)/y_test))"
   ]
  },
  {
   "cell_type": "code",
   "execution_count": 287,
   "id": "34c13649",
   "metadata": {},
   "outputs": [
    {
     "name": "stdout",
     "output_type": "stream",
     "text": [
      "mape_train inf\n",
      "mape_test inf\n"
     ]
    }
   ],
   "source": [
    "print(\"mape_train\",mape_train)\n",
    "print(\"mape_test\",mape_test)"
   ]
  },
  {
   "cell_type": "code",
   "execution_count": 288,
   "id": "7986b547",
   "metadata": {},
   "outputs": [
    {
     "data": {
      "text/plain": [
       "Index(['Pregnancies', 'Glucose', 'BloodPressure', 'SkinThickness', 'Insulin',\n",
       "       'BMI', 'DiabetesPedigreeFunction', 'Age', 'Outcome'],\n",
       "      dtype='object')"
      ]
     },
     "execution_count": 288,
     "metadata": {},
     "output_type": "execute_result"
    }
   ],
   "source": [
    "num_data.columns"
   ]
  },
  {
   "cell_type": "code",
   "execution_count": 290,
   "id": "10d23f3d",
   "metadata": {},
   "outputs": [
    {
     "name": "stdout",
     "output_type": "stream",
     "text": [
      "                            OLS Regression Results                            \n",
      "==============================================================================\n",
      "Dep. Variable:                Outcome   R-squared:                       0.341\n",
      "Model:                            OLS   Adj. R-squared:                  0.332\n",
      "Method:                 Least Squares   F-statistic:                     36.75\n",
      "Date:                Mon, 12 Feb 2024   Prob (F-statistic):           5.85e-47\n",
      "Time:                        14:51:13   Log-Likelihood:                -268.85\n",
      "No. Observations:                 576   AIC:                             555.7\n",
      "Df Residuals:                     567   BIC:                             594.9\n",
      "Df Model:                           8                                         \n",
      "Covariance Type:            nonrobust                                         \n",
      "============================================================================================\n",
      "                               coef    std err          t      P>|t|      [0.025      0.975]\n",
      "--------------------------------------------------------------------------------------------\n",
      "const                       -1.1260      0.121     -9.338      0.000      -1.363      -0.889\n",
      "Pregnancies                  0.0092      0.006      1.530      0.127      -0.003       0.021\n",
      "Glucose                      0.0068      0.001     10.804      0.000       0.006       0.008\n",
      "BloodPressure               -0.0019      0.002     -1.271      0.204      -0.005       0.001\n",
      "SkinThickness                0.0013      0.002      0.572      0.568      -0.003       0.006\n",
      "Insulin                     -0.0003      0.000     -1.495      0.136      -0.001    8.64e-05\n",
      "BMI                          0.0155      0.003      5.022      0.000       0.009       0.022\n",
      "DiabetesPedigreeFunction     0.0813      0.052      1.559      0.119      -0.021       0.184\n",
      "Age                          0.0060      0.002      3.277      0.001       0.002       0.010\n",
      "==============================================================================\n",
      "Omnibus:                       20.371   Durbin-Watson:                   1.995\n",
      "Prob(Omnibus):                  0.000   Jarque-Bera (JB):               14.852\n",
      "Skew:                           0.286   Prob(JB):                     0.000596\n",
      "Kurtosis:                       2.460   Cond. No.                     1.42e+03\n",
      "==============================================================================\n",
      "\n",
      "Notes:\n",
      "[1] Standard Errors assume that the covariance matrix of the errors is correctly specified.\n",
      "[2] The condition number is large, 1.42e+03. This might indicate that there are\n",
      "strong multicollinearity or other numerical problems.\n"
     ]
    }
   ],
   "source": [
    "import statsmodels.api as sm\n",
    "x_train1=x_train[['Pregnancies', 'Glucose', 'BloodPressure', 'SkinThickness', 'Insulin',\n",
    "       'BMI', 'DiabetesPedigreeFunction', 'Age']]\n",
    "x_train1=sm.add_constant(x_train1)\n",
    "model=sm.OLS(y_train, x_train1)\n",
    "results=model.fit()\n",
    "print(results.summary())"
   ]
  },
  {
   "cell_type": "markdown",
   "id": "1605f9c8",
   "metadata": {},
   "source": [
    "## ROC AUC"
   ]
  },
  {
   "cell_type": "code",
   "execution_count": 291,
   "id": "a1793cab",
   "metadata": {},
   "outputs": [],
   "source": [
    "from sklearn.metrics import roc_auc_score,roc_curve"
   ]
  },
  {
   "cell_type": "code",
   "execution_count": 295,
   "id": "42e49ea8",
   "metadata": {},
   "outputs": [
    {
     "name": "stdout",
     "output_type": "stream",
     "text": [
      "[[0.74858892 0.25141108]\n",
      " [0.833741   0.166259  ]\n",
      " [0.89701995 0.10298005]\n",
      " [0.83843293 0.16156707]\n",
      " [0.54768029 0.45231971]]\n",
      "(192, 2)\n"
     ]
    }
   ],
   "source": [
    "ypred_prob = lg1.predict_proba(x_test)  \n",
    "print(ypred_prob[:5])  # top5 values\n",
    "print(ypred_prob.shape)"
   ]
  },
  {
   "cell_type": "code",
   "execution_count": 296,
   "id": "be1ab33e",
   "metadata": {},
   "outputs": [
    {
     "data": {
      "image/png": "[encoded data removed]",
      "text/plain": [
       "<Figure size 640x480 with 1 Axes>"
      ]
     },
     "metadata": {},
     "output_type": "display_data"
    }
   ],
   "source": [
    "fpr,tpr,thresh = roc_curve(y_test,ypred_prob[:,1])   # ROC curve\n",
    "auc_score = roc_auc_score(y_test,ypred_prob[:,1])    # AUC_score\n",
    "plt.plot(fpr,tpr,label='AUC: '+str(auc_score))\n",
    "plt.plot([0,1],[0,1],color='red',linestyle='dotted',label='TPR=FPR')\n",
    "plt.title('ROC Curve')\n",
    "plt.xlabel('FPR')  # FP/(TN+FP)  # prob of +ve prediction when actual values are negative\n",
    "plt.ylabel('TPR')  # TP/(TP+FN)  # prob of +ve prediction when actual values are positive\n",
    "plt.legend()\n",
    "plt.show()"
   ]
  },
  {
   "cell_type": "markdown",
   "id": "73c15a70",
   "metadata": {},
   "source": [
    "## Best Threshold Values"
   ]
  },
  {
   "cell_type": "code",
   "execution_count": 297,
   "id": "f95ca85a",
   "metadata": {},
   "outputs": [
    {
     "data": {
      "text/plain": [
       "0.5888269620764058"
      ]
     },
     "execution_count": 297,
     "metadata": {},
     "output_type": "execute_result"
    }
   ],
   "source": [
    "best_thresh=thresh[np.argmax(tpr-fpr)]\n",
    "best_thresh"
   ]
  },
  {
   "cell_type": "markdown",
   "id": "c5e5f540",
   "metadata": {},
   "source": [
    "## Change the values based on this new Threshold"
   ]
  },
  {
   "cell_type": "code",
   "execution_count": 298,
   "id": "73c361c8",
   "metadata": {},
   "outputs": [],
   "source": [
    "y_pred_lg4=np.where(ypred_prob[:,1]>best_thresh,1,0)"
   ]
  },
  {
   "cell_type": "markdown",
   "id": "ef4ce8e4",
   "metadata": {},
   "source": [
    "## Now check the model on this Threshold"
   ]
  },
  {
   "cell_type": "code",
   "execution_count": 299,
   "id": "1d150858",
   "metadata": {},
   "outputs": [],
   "source": [
    "def advanced_eval(model,x_train,y_train,x_test,y_test,y_pred,model_name):\n",
    "    cm=confusion_matrix(y_test,y_pred)\n",
    "    cr=classification_report(y_test,y_pred)\n",
    "    train=model.score(x_train,y_train)\n",
    "    test=model.score(x_test,y_test)\n",
    "    pre1=precision_score(y_test,y_pred)\n",
    "    rec1=recall_score(y_test,y_pred)\n",
    "    res=pd.DataFrame({'Train Acc':train,'Test Acc':test,'PRECISON':pre1,'RECALL':rec1},index=[model_name])\n",
    "    print('Confusion matrix\\n',cm)\n",
    "    print('Classification report\\n',cr)\n",
    "    return res"
   ]
  },
  {
   "cell_type": "code",
   "execution_count": 300,
   "id": "a7d84265",
   "metadata": {},
   "outputs": [
    {
     "name": "stdout",
     "output_type": "stream",
     "text": [
      "Confusion matrix\n",
      " [[107  16]\n",
      " [ 29  40]]\n",
      "Classification report\n",
      "               precision    recall  f1-score   support\n",
      "\n",
      "           0       0.79      0.87      0.83       123\n",
      "           1       0.71      0.58      0.64        69\n",
      "\n",
      "    accuracy                           0.77       192\n",
      "   macro avg       0.75      0.72      0.73       192\n",
      "weighted avg       0.76      0.77      0.76       192\n",
      "\n"
     ]
    },
    {
     "data": {
      "text/html": [
       "<div>\n",
       "<style scoped>\n",
       "    .dataframe tbody tr th:only-of-type {\n",
       "        vertical-align: middle;\n",
       "    }\n",
       "\n",
       "    .dataframe tbody tr th {\n",
       "        vertical-align: top;\n",
       "    }\n",
       "\n",
       "    .dataframe thead th {\n",
       "        text-align: right;\n",
       "    }\n",
       "</style>\n",
       "<table border=\"1\" class=\"dataframe\">\n",
       "  <thead>\n",
       "    <tr style=\"text-align: right;\">\n",
       "      <th></th>\n",
       "      <th>Train Acc</th>\n",
       "      <th>Test Acc</th>\n",
       "      <th>PRECISON</th>\n",
       "      <th>RECALL</th>\n",
       "    </tr>\n",
       "  </thead>\n",
       "  <tbody>\n",
       "    <tr>\n",
       "      <th>Log_Reg (thresh=0.589)</th>\n",
       "      <td>0.788194</td>\n",
       "      <td>0.75</td>\n",
       "      <td>0.714286</td>\n",
       "      <td>0.57971</td>\n",
       "    </tr>\n",
       "  </tbody>\n",
       "</table>\n",
       "</div>"
      ],
      "text/plain": [
       "                        Train Acc  Test Acc  PRECISON   RECALL\n",
       "Log_Reg (thresh=0.589)   0.788194      0.75  0.714286  0.57971"
      ]
     },
     "execution_count": 300,
     "metadata": {},
     "output_type": "execute_result"
    }
   ],
   "source": [
    "lg4_res=advanced_eval(lg1,x_train,y_train,x_test,y_test,y_pred_lg4,f'Log_Reg (thresh={round(best_thresh,3)})')\n",
    "lg4_res"
   ]
  },
  {
   "cell_type": "markdown",
   "id": "a15e9fb8",
   "metadata": {},
   "source": [
    "## Logistic Regression Increasing Recall"
   ]
  },
  {
   "cell_type": "code",
   "execution_count": 301,
   "id": "2d74f201",
   "metadata": {},
   "outputs": [],
   "source": [
    "y_pred_lg5=np.where(ypred_prob[:,1]>0.3,1,0)"
   ]
  },
  {
   "cell_type": "code",
   "execution_count": 302,
   "id": "249c4871",
   "metadata": {},
   "outputs": [
    {
     "name": "stdout",
     "output_type": "stream",
     "text": [
      "Confusion matrix\n",
      " [[77 46]\n",
      " [18 51]]\n",
      "Classification report\n",
      "               precision    recall  f1-score   support\n",
      "\n",
      "           0       0.81      0.63      0.71       123\n",
      "           1       0.53      0.74      0.61        69\n",
      "\n",
      "    accuracy                           0.67       192\n",
      "   macro avg       0.67      0.68      0.66       192\n",
      "weighted avg       0.71      0.67      0.67       192\n",
      "\n"
     ]
    },
    {
     "data": {
      "text/html": [
       "<div>\n",
       "<style scoped>\n",
       "    .dataframe tbody tr th:only-of-type {\n",
       "        vertical-align: middle;\n",
       "    }\n",
       "\n",
       "    .dataframe tbody tr th {\n",
       "        vertical-align: top;\n",
       "    }\n",
       "\n",
       "    .dataframe thead th {\n",
       "        text-align: right;\n",
       "    }\n",
       "</style>\n",
       "<table border=\"1\" class=\"dataframe\">\n",
       "  <thead>\n",
       "    <tr style=\"text-align: right;\">\n",
       "      <th></th>\n",
       "      <th>Train Acc</th>\n",
       "      <th>Test Acc</th>\n",
       "      <th>PRECISON</th>\n",
       "      <th>RECALL</th>\n",
       "    </tr>\n",
       "  </thead>\n",
       "  <tbody>\n",
       "    <tr>\n",
       "      <th>Log_Reg (thresh=0.3)</th>\n",
       "      <td>0.788194</td>\n",
       "      <td>0.75</td>\n",
       "      <td>0.525773</td>\n",
       "      <td>0.73913</td>\n",
       "    </tr>\n",
       "  </tbody>\n",
       "</table>\n",
       "</div>"
      ],
      "text/plain": [
       "                      Train Acc  Test Acc  PRECISON   RECALL\n",
       "Log_Reg (thresh=0.3)   0.788194      0.75  0.525773  0.73913"
      ]
     },
     "execution_count": 302,
     "metadata": {},
     "output_type": "execute_result"
    }
   ],
   "source": [
    "lg5_res=advanced_eval(lg1,x_train,y_train,x_test,y_test,y_pred_lg5,f'Log_Reg (thresh=0.3)')\n",
    "lg5_res"
   ]
  }
 ],
 "metadata": {
  "kernelspec": {
   "display_name": "Python 3 (ipykernel)",
   "language": "python",
   "name": "python3"
  },
  "language_info": {
   "codemirror_mode": {
    "name": "ipython",
    "version": 3
   },
   "file_extension": ".py",
   "mimetype": "text/x-python",
   "name": "python",
   "nbconvert_exporter": "python",
   "pygments_lexer": "ipython3",
   "version": "3.11.4"
  }
 },
 "nbformat": 4,
 "nbformat_minor": 5
}
